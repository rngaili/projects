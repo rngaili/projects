{
 "cells": [
  {
   "cell_type": "markdown",
   "id": "instructional-trail",
   "metadata": {
    "id": "excess-crystal"
   },
   "source": [
    "# Data Science Coursework 2\n",
    "## Task 1: Neural networks\n",
    "In Task 1, we will explore how two different neural network architectures perform on a supervised classification\n",
    "task on the CIFAR-10 dataset of images. This dataset contains 50,000 training and 10,000 validation images\n",
    "belonging to 10 classes, e.g., airplanes, birds, cars, ships, etc The CIFAR-10 dataset is well balanced, i.e., it has\n",
    "5,000 images of each class in the training set and 1,000 images of each class in the validation set.\n",
    "\n",
    "We begin by importing packages and loading the data needed for this task."
   ]
  },
  {
   "cell_type": "code",
   "execution_count": 1,
   "id": "judicial-uniform",
   "metadata": {
    "id": "psychological-standard"
   },
   "outputs": [],
   "source": [
    "# load required libraries\n",
    "import numpy as np\n",
    "import pandas as pd\n",
    "import seaborn as sns\n",
    "import tensorflow as tf\n",
    "import matplotlib.pyplot as plt"
   ]
  },
  {
   "cell_type": "code",
   "execution_count": 2,
   "id": "flush-chart",
   "metadata": {
    "id": "mechanical-window"
   },
   "outputs": [],
   "source": [
    "# downloading the data\n",
    "def load_data():\n",
    "    (x_train, y_train), (x_val, y_val) = tf.keras.datasets.cifar10.load_data()\n",
    "    x_train = x_train.astype('float32') / 255\n",
    "    x_val = x_val.astype('float32') / 255\n",
    "    \n",
    "    # convert labels to categorical samples\n",
    "    y_train = tf.keras.utils.to_categorical(y_train, num_classes=10)\n",
    "    y_val = tf.keras.utils.to_categorical(y_val, num_classes=10)\n",
    "    return ((x_train, y_train), (x_val, y_val))"
   ]
  },
  {
   "cell_type": "code",
   "execution_count": 4,
   "id": "undefined-season",
   "metadata": {
    "colab": {
     "base_uri": "https://localhost:8080/",
     "height": 410
    },
    "id": "adequate-danish",
    "outputId": "cdeb6718-469d-4dcc-f81f-ddbb2d6b81de"
   },
   "outputs": [
    {
     "name": "stdout",
     "output_type": "stream",
     "text": [
      "Downloading data from https://www.cs.toronto.edu/~kriz/cifar-10-python.tar.gz\n",
      "170500096/170498071 [==============================] - 4s 0us/step\n"
     ]
    },
    {
     "data": {
      "image/png": "[encoded data removed]",
      "text/plain": [
       "<Figure size 432x432 with 4 Axes>"
      ]
     },
     "metadata": {
      "needs_background": "light",
      "tags": []
     },
     "output_type": "display_data"
    }
   ],
   "source": [
    "(x_train, y_train), (x_val, y_val) = load_data()\n",
    "\n",
    "# see what some of the images in the data look like\n",
    "plt.figure(figsize=[6,6])\n",
    "for i in range(4):\n",
    "    plt.subplot(2,2,i+1)\n",
    "    plt.imshow(x_train[i],cmap='gray');"
   ]
  },
  {
   "cell_type": "markdown",
   "id": "retired-sentence",
   "metadata": {
    "id": "dynamic-bottle"
   },
   "source": [
    "Before starting, we must flatten the data to be able to process it."
   ]
  },
  {
   "cell_type": "code",
   "execution_count": 5,
   "id": "global-chocolate",
   "metadata": {
    "colab": {
     "base_uri": "https://localhost:8080/"
    },
    "id": "honey-split",
    "outputId": "b93525fb-5d68-4b2a-ee82-17426c4123fb"
   },
   "outputs": [
    {
     "name": "stdout",
     "output_type": "stream",
     "text": [
      "(50000, 3072)\n"
     ]
    }
   ],
   "source": [
    "# flatten the data\n",
    "x_train = x_train.reshape([x_train.shape[0], -1])\n",
    "x_val = x_val.reshape([x_val.shape[0], -1])\n",
    "print(x_train.shape)"
   ]
  },
  {
   "cell_type": "markdown",
   "id": "starting-pepper",
   "metadata": {
    "id": "urban-pleasure"
   },
   "source": [
    "### 1.1 Multi-layer perceptron\n",
    "### 1.1.1 MLP using Numpy\n",
    "\n",
    "The multi-layer perceptron, also known as a feed-forward network, is one of the simplest type of deep learning models. It composes multiple affine transformations together, and applies a pointwise nonlinearity in between. \n",
    "\n",
    "$$\n",
    "\\begin{align}\n",
    "\\boldsymbol{h}^{(0)} &:= \\boldsymbol{x},\\\\\n",
    "\\boldsymbol{h}^{(k)} &= \\sigma\\left((\\boldsymbol{h}^{(k-1)})^T \\boldsymbol{W}^{(k-1)} + \\boldsymbol{b}^{(k-1)} \\right),\\qquad k=1,\\ldots, L,\\\\\n",
    "\\hat{\\boldsymbol{y}} &= \\sigma_{out}\\left((\\boldsymbol{h}^{(L)})^T \\boldsymbol{W}^{(L)} + \\boldsymbol{b}^{(L)} \\right),\n",
    "\\end{align}\n",
    "$$\n",
    "\n",
    "where $\\boldsymbol x\\in\\mathbb{R}^D$, $\\hat{\\boldsymbol{y}}\\in\\mathbb{R}^{n_{L+1}}$, $L$ is the number of hidden layers in the model, $\\boldsymbol{W}^{(k)}\\in\\mathbb{R}^{n_{k}\\times n_{k+1}}$, $\\boldsymbol{b}^{(k)}\\in\\mathbb{R}^{n_{k+1}}$, $\\boldsymbol{h}^{(k)}\\in\\mathbb{R}^{n_k}$, $\\sigma, \\sigma_{out}: \\mathbb{R}\\mapsto\\mathbb{R}$ are activation functions that operate element-wise, $n_k$ is the number of units in the $k$-th hidden layer, and we have set $n_0 := D$.\n",
    "\n",
    "We define the architecture of the network as follows.\n",
    "**Architecture of the network:** \n",
    "- Five hidden layers, each with 400 neurons, followed by the output layer with 10 neurons. \n",
    "- Use the standardised tanh(x) function as the activation function between all layers, and the softmax function as the activation function on the output layer.\n",
    "- Fix the optimisation method to be stochastic gradient descent (SGD), and define the loss function as cross-entropy.\n",
    "\n",
    "We will train the MLP on batches of 128 data points with a learning rate of 0.01 for 40 epochs. For both the\n",
    "training and validation sets, we will plot the loss function and the accuracy of this model as a function of the\n",
    "number of epochs and discuss the convergence of the model.\n",
    "\n",
    "We begin with the feed-forward step and then move onto the back-propagation step. The feed-forwards step involves calculating the weights, bias, activations and post-activations whereas back propagation solve an optimization problem where we look for the minimum of a function.\n",
    "\n",
    "**Feed-forward**\n",
    "\n",
    "We first implement a simple Dense layer as they will construct our 5 hidden layers."
   ]
  },
  {
   "cell_type": "code",
   "execution_count": 6,
   "id": "stretch-british",
   "metadata": {
    "id": "preceding-leone"
   },
   "outputs": [],
   "source": [
    "# this function implements the dense layer transformation to obtain the pre-activation values\n",
    "def dense(x, W, b):\n",
    "    \n",
    "    # x: K x h_in array of inputs\n",
    "    # W: h_in x h_out array for kernel matrix parameters\n",
    "    # b: Length h_out 1-D array for bias parameters\n",
    "    # returns: K x h_out output array \n",
    "    \n",
    "    h = b + x @ W \n",
    "    return h"
   ]
  },
  {
   "cell_type": "markdown",
   "id": "related-party",
   "metadata": {
    "id": "precious-kingdom"
   },
   "source": [
    "The output layer of our model will use a softmax activation function that we implement in the cell below."
   ]
  },
  {
   "cell_type": "code",
   "execution_count": 7,
   "id": "durable-amount",
   "metadata": {
    "id": "opponent-evanescence"
   },
   "outputs": [],
   "source": [
    "# softmax function\n",
    "def softmax(x):\n",
    "    return np.exp(x) / np.sum(np.exp(x), axis=0)"
   ]
  },
  {
   "cell_type": "markdown",
   "id": "gross-albert",
   "metadata": {
    "id": "worth-assault"
   },
   "source": [
    "Our MLP will need the following parameters:\n",
    "\n",
    "Input layer -> first hidden layer:\n",
    "* Kernel $\\boldsymbol{W}^{(0)} \\in\\mathbb{R}^{3072\\times 400}$\n",
    "* Bias $\\boldsymbol{b}^{(0)} \\in\\mathbb{R}^{400}$\n",
    "\n",
    "Hidden layer -> hidden layer:\n",
    "* Kernel $\\boldsymbol{W}^{(k)} \\in\\mathbb{R}^{400\\times 400}$, $k=1, 2, 3, 4$\n",
    "* Bias $\\boldsymbol{b}^{(k)} \\in\\mathbb{R}^{400}$, $k=1, 2, 3, 4$\n",
    "\n",
    "Hidden layer -> output layer:\n",
    "* Kernel $\\boldsymbol{W}^{(5)} \\in\\mathbb{R}^{400\\times 10}$\n",
    "* Bias $\\boldsymbol{b}^{(5)} \\in\\mathbb{R}^{10}$\n",
    "\n",
    "We will create these parameters as numpy arrays, and initialise the kernel values with samples from a zero-mean Gaussian distribution with variance $2 / (n_{in} + n_{out})$, where $n_{in}$ and $n_{out}$ are the number of neurons going in and out of the dense layer respectively.\n",
    "\n",
    "This MLP model has six kernel variables and six bias variables. We initialize weights as random values."
   ]
  },
  {
   "cell_type": "code",
   "execution_count": 8,
   "id": "forced-picture",
   "metadata": {
    "id": "authentic-performer"
   },
   "outputs": [],
   "source": [
    "# Create the parameters\n",
    "var0 = 2. / (400 + 10)\n",
    "W0 = np.random.randn(3072, 400) * np.sqrt(var0) #(3072, 400)\n",
    "b0 = np.zeros(400) # (400,)\n",
    "\n",
    "var1 = 2. / (400 + 400)\n",
    "W1 = np.random.randn(400, 400) * np.sqrt(var1)\n",
    "b1 = np.zeros(400)  #(400, 400)\n",
    "\n",
    "var2 = 2. / (400 + 400)\n",
    "W2 = np.random.randn(400, 400) * np.sqrt(var2)\n",
    "b2 = np.zeros(400)\n",
    "\n",
    "var3 = 2. / (400 + 400)\n",
    "W3 = np.random.randn(400, 400) * np.sqrt(var3) #(400, 400)\n",
    "b3 = np.zeros(400) # (400,)\n",
    "\n",
    "var4 = 2. / (400 + 400)\n",
    "W4 = np.random.randn(400, 400) * np.sqrt(var4) #(400, 400)\n",
    "b4 = np.zeros(400)\n",
    "\n",
    "var5 = 2. / (10 + 400)\n",
    "W5 = np.random.randn(400, 10) * np.sqrt(var4) #(400, 10)\n",
    "b5 = np.zeros(10) # (10,)\n",
    "\n",
    "weights = [W0, W1, W2, W3, W4, W5]\n",
    "bias = [b0, b1, b2, b3, b4, b5]"
   ]
  },
  {
   "cell_type": "markdown",
   "id": "exempt-angola",
   "metadata": {
    "id": "advised-contrast"
   },
   "source": [
    "We use these parameters and the `dense` function to create the MLP model. The hidden layers of the model has a standardised tanh(x) activation, and the output of the model has a softmax activation function."
   ]
  },
  {
   "cell_type": "code",
   "execution_count": 10,
   "id": "harmful-interstate",
   "metadata": {
    "id": "dimensional-cement"
   },
   "outputs": [],
   "source": [
    "def mlp(x):\n",
    "    \n",
    "    # input: x (50000 x 10 array of inputs)\n",
    "    # returns: y_hat (50000 x 10 output array), activations and post_activations\n",
    "\n",
    "    a1 = dense(x, W0, b0) # activation function for hidden layer 1  (50000, 400)\n",
    "    h1 = np.tanh(a1) # (50000, 400)\n",
    "    \n",
    "    a2 = dense(h1, W1, b1) # activation function for hidden layer 2\n",
    "    h2 = np.tanh(a2)\n",
    "        \n",
    "    a3 = dense(h2, W2, b2) # activation function for hidden layer 3\n",
    "    h3 = np.tanh(a3)\n",
    "        \n",
    "    a4 = dense(h3, W3, b3) # activation function for hidden layer 4\n",
    "    h4 = np.tanh(a4) \n",
    "        \n",
    "    a5 = dense(h4, W4, b4) # activation function forhidden  layer 5 # (50000, 400)\n",
    "    h5 = np.tanh(a5) # (50000, 400)\n",
    "        \n",
    "    a6 = dense(h5, W5, b5) # activation function for output layer (50000, 10)\n",
    "    y_hat = softmax(a6) # (50000, 10)\n",
    "    \n",
    "    activations = [a1, a2, a3, a4, a5, a6]\n",
    "    post_activations = [h1, h2, h3, h4, h5]\n",
    "            \n",
    "    return y_hat, activations, post_activations"
   ]
  },
  {
   "cell_type": "code",
   "execution_count": 11,
   "id": "available-engagement",
   "metadata": {
    "id": "digital-vegetable"
   },
   "outputs": [],
   "source": [
    "# Get output of the initialised model\n",
    "y_hat, activations, post_activations = mlp(x_train)"
   ]
  },
  {
   "cell_type": "markdown",
   "id": "editorial-garbage",
   "metadata": {
    "id": "literary-dominican"
   },
   "source": [
    "**Back-propagation**\n",
    "\n",
    "We can now move onto the backpropagation algorithm which can be summarised as follows:\n",
    "\n",
    ">1. Define the **error** $\\delta^{(k)}_p := \\frac{\\partial \\mathcal{L}_i}{\\partial a^{(k)}_p}$ for layer $k$, where we denote $\\mathcal{L}_i$ as the loss for example $i$, and $a^{(k)}_p$ is the $p$-th pre-activation in layer $k$\n",
    ">2. Propagate the signal forwards by passing an input vector $x_i$ through the network and computing all pre-activations and post-activations using $\\mathbf{a}^{(k)} = (\\boldsymbol{h}^{(k-1)})^T\\boldsymbol{W}^{(k-1)} + \\boldsymbol{b}^{(k-1)}$\n",
    "> 3. Evaluate $\\boldsymbol{\\delta}^{(L+1)} = \\frac{\\partial \\mathcal{L}_i}{\\partial \\boldsymbol{a}^{(L+1)}}$ for the output neurons\n",
    "> 4. Backpropagate the errors to compute $\\mathbf{\\delta}^{(k)}$ for each hidden unit using $\\boldsymbol{\\delta}^{(k)} = \\boldsymbol{\\sigma}'(\\boldsymbol{a}^{(k)})  \\boldsymbol{W}^{(k)} \\boldsymbol{\\delta}^{(k+1)}$\n",
    "> 5. Obtain the derivatives of $\\mathcal{L}_i$ with respect to the weights and biases using $\\frac{\\partial \\mathcal{L}_i}{\\partial w^{(k)}_{pq}} = \\delta^{(k+1)}_p h^{(k)}_q,\\quad \n",
    "\\frac{\\partial \\mathcal{L}_i}{\\partial b^{(k)}_{p}} = \\delta^{(k+1)}_p$"
   ]
  },
  {
   "cell_type": "markdown",
   "id": "effective-fountain",
   "metadata": {
    "id": "linear-prefix"
   },
   "source": [
    "In the above, $\\boldsymbol{\\sigma}'(\\boldsymbol{a}^{(k)})$ is a diagonal matrix with diagonal elements $\\sigma'(a^{(k)}_p)$, $p=1,\\ldots,n_k$, where $n_k$ is the number of neurons in hidden layer $k$.\n",
    "\n",
    "In our case, we have an MLP with five hidden layers ($L=5$). The loss that we wish to minimise is the cross-entropy loss:\n",
    "$$\n",
    "L = H(y,\\hat{y}) = -\\sum_i^cy_ilog(\\hat{y}_i)\n",
    "$$\n",
    "\n",
    "where $y$ is the input data, $\\hat{y}$ is the vector of predicted outputs and $c$ is the number of classes (here $10$).\n",
    "\n",
    "We use the softmax function as our activation function. The softmax function takes as inputs a vector $\\bf{z}$\n",
    "and is given by:\n",
    "$$\n",
    "y_C = \\sigma(\\bf{z}_C) = \\frac{e^{z_C}}{\\sum_{d=1}^{10}e^{z_d}}\n",
    "$$ for $C = 1, ..., 10$ in our case.\n",
    "\n",
    "We will need the derivative for the softmax function later therefore I derive it here:\n",
    "if $i=j$,\n",
    "$$\n",
    "\\frac{\\partial {y_i}}{\\partial {z_j}} = \\frac{\\partial {\\frac{e^z_C}{\\sum_C}}}{\\partial {z_j}} = \\frac{e^z_C\\sum_C-e^z_ie^z_i}{\\sum_C^2} = \\frac{e^z_i}{\\sum_C}\\bigg(1-\\frac{e^z_i}{\\sum_C}\\bigg) = y_i(1-y_i)\n",
    "$$\n",
    "but if $i\\neq j$,\n",
    "$$\n",
    "\\frac{\\partial {y_i}}{\\partial {z_j}} = \\frac{\\partial {\\frac{e^z_C}{\\sum_C}}}{\\partial {z_j}} = \\frac{0-e^z_ie^z_j}{\\sum_C^2} = -\\frac{e^z_i}{\\sum_C}\\frac{e^z_j}{\\sum_C} = -y_iy_j\n",
    "$$"
   ]
  },
  {
   "cell_type": "markdown",
   "id": "judicial-insider",
   "metadata": {
    "id": "cohiKHi7QeQW"
   },
   "source": [
    "To evaluate the error for the output neurons (step $3$ in the algorithm above), we will need the derivative of $L$ with respect to the activations. The derivation of the derivative is as follows (6):\n",
    "$$\n",
    "\\frac{\\partial L}{\\partial a_i} = -\\sum_{k=1}^{10}y_k \\frac{\\partial log(\\hat{y}_k)}{\\partial a_i} = -\\sum_{k=1}^{10}y_k \\frac{\\partial log(\\hat{y}_k)}{\\partial \\hat{y}_k} \\frac{\\partial \\hat{y}_k}{\\partial a_i} = -\\sum_{k=1}^{10}y_k \\frac{1}{\\hat{y}_k} \\frac{\\partial \\hat{y}_k}{\\partial a_i}\n",
    "$$\n",
    "Where $a_i$ is the activation function.\n",
    "Now, from the derivative of the softmax function that we derived earlier, we can write:\n",
    "$$\n",
    "\\frac{\\partial L}{\\partial a_i} = -y_i (1-\\hat{y}_i) + \\sum_{k\\neq i} y_k \\hat{y}_i = -y_i + y_i \\hat{y}_i + \\sum_{k\\neq i} y_k \\hat{y}_k  = \\hat{y}_i\\bigg(y_i + \\sum_{k\\neq i}y_k \\bigg) - y_i\n",
    "$$\n",
    "Because $y$ is a one hot encoded vector, we know $\\sum_{k=1}^{10}y_k=1$ and $y_i + \\sum_{k\\neq i}y_k = 1$.\n",
    "We therefore have:\n",
    "$$\n",
    "\\frac{\\partial L}{\\partial a_i} = \\hat{y}_i - y_i\n",
    "$$"
   ]
  },
  {
   "cell_type": "markdown",
   "id": "placed-disaster",
   "metadata": {
    "id": "operational-installation"
   },
   "source": [
    "We will start by computing the output error $\\boldsymbol{\\delta}^{(6)} = \\frac{\\partial \\mathcal{L}_i}{\\partial \\boldsymbol{a}^{(6)}}$."
   ]
  },
  {
   "cell_type": "code",
   "execution_count": 12,
   "id": "driven-ballot",
   "metadata": {
    "id": "interracial-backing"
   },
   "outputs": [],
   "source": [
    "# error of the output later with the softmax activation function\n",
    "def output_error(y_hat, y_batch):\n",
    "    \n",
    "    # y_hat: 500000 x 10 array of output pre-activations\n",
    "    # y_batch: 50000 x 10 array of data outputs\n",
    "    # returns: 50000 x 10 array of output errors \n",
    "    \n",
    "    return np.subtract(y_hat, y_batch)"
   ]
  },
  {
   "cell_type": "markdown",
   "id": "olive-billy",
   "metadata": {
    "id": "reserved-adelaide"
   },
   "source": [
    "We will also need to compute the diagonal matrix $\\boldsymbol{\\sigma}'(\\boldsymbol{a}^{(L)})$:"
   ]
  },
  {
   "cell_type": "code",
   "execution_count": 14,
   "id": "split-magnitude",
   "metadata": {
    "id": "ceramic-brighton"
   },
   "outputs": [],
   "source": [
    "def tanh_derivative(a):\n",
    "    \n",
    "    # a1: K x 400 array of hidden layer pre-activations\n",
    "    # returns: K x 400 array of diagonal elements  \n",
    "    \n",
    "    return 1 - np.square(np.tanh(a))"
   ]
  },
  {
   "cell_type": "markdown",
   "id": "moral-today",
   "metadata": {
    "id": "metric-authority"
   },
   "source": [
    "Given the output error $\\boldsymbol{\\delta}^{(6)}$, kernel matrix $\\boldsymbol{W}^{(5)}$ and the preactivations $\\boldsymbol a^{(5)}$, we need to backpropagate the error $\\boldsymbol{\\delta}^{(6)}$ to get $\\boldsymbol{\\delta}^{(5)}$, then $\\boldsymbol{\\delta}^{(5)}$ to get $\\boldsymbol{\\delta}^{(4)}$, etc."
   ]
  },
  {
   "cell_type": "markdown",
   "id": "equal-motorcycle",
   "metadata": {
    "id": "aQBs-OCbQ4c5"
   },
   "source": [
    "Stochastic gradient descent samples a batch of $K$ input and output samples, and makes a parameter update by  computing the gradient \n",
    "\n",
    "$$\n",
    "\\nabla_{(\\boldsymbol{b}, \\boldsymbol{W})}\\mathcal{L}(\\boldsymbol{b}, \\boldsymbol{W}) \\mid \\mathcal{X}^{(i)}, \\mathcal{Y}^{(i)}),\n",
    "$$\n",
    "\n",
    "where $\\boldsymbol{b}, \\boldsymbol{W}$ are the values of the parameters at the $i$-th iteration of the algorithm, and $\\mathcal{X}^{(i)}, \\mathcal{Y}^{(i)}$ are the $i$-th batch of inputs and outputs.\n",
    "\n",
    "The following function should compute this gradient for a given batch of data, and current parameter values.\n",
    "\n"
   ]
  },
  {
   "cell_type": "code",
   "execution_count": 15,
   "id": "missing-authority",
   "metadata": {
    "id": "l1uGBk1dLK5r"
   },
   "outputs": [],
   "source": [
    "def grads(x_train, y_train):\n",
    "    y_hat, activations, post_activations = mlp(x_train)\n",
    "    delta = output_error(y_hat, y_train)\n",
    "\n",
    "    # empty lists to store gradients\n",
    "    b_grads = [None] * 6 \n",
    "    W_grads = [None] * 6\n",
    "   \n",
    "    b_grads[5] = np.mean(delta, axis=0)\n",
    "    W_grads[5] = np.transpose(delta) @ post_activations[4] / 128\n",
    "\n",
    "    for i in range(4, -1, -1):\n",
    "      delta = delta @ np.transpose(weights[i+1]) \n",
    "      delta = tanh_derivative(activations[i]) * delta\n",
    "      b_grads[k] = np.mean(delta, axis=0) / 128\n",
    "      W_grads[k] = np.transpose(delta) @ post_activations[k] / 128\n",
    "    return b_grads, W_grads"
   ]
  },
  {
   "cell_type": "markdown",
   "id": "illegal-announcement",
   "metadata": {
    "id": "KkcDp_v4v1U6"
   },
   "source": [
    "To create my batches, I first randomly permutated the data, then read off the first 128 indeces of x_train to form the first x_batch, then the next 128 indeces as the next batch. I did the same to get the batches of y_train."
   ]
  },
  {
   "cell_type": "code",
   "execution_count": 23,
   "id": "coordinated-denial",
   "metadata": {
    "id": "3WSPLFZEWdeQ"
   },
   "outputs": [],
   "source": [
    "def get_batches(x_train, y_train):\n",
    "    \n",
    "    x_batches = [] # empty list to store batches\n",
    "    y_batches = [] # empty list to store batches\n",
    "    batch_size = 128\n",
    "    num_batches = len(x_train) // batch_size\n",
    "    x_train = np.random.permutation(x_train) # shuffling the data\n",
    "    y_train = np.random.permutation(y_train) # shuffling the data\n",
    "    \n",
    "    for i in range(num_batches+1):\n",
    "        start = i * batch_size  # standard case\n",
    "        end = start + batch_size\n",
    "        batch_indices_x = x_train[start:end]\n",
    "        batch_indices_y = y_train[start:end]\n",
    "        x_batches.append(batch_indices_x)\n",
    "        y_batches.append(batch_indices_y)\n",
    "    return x_batches, y_batches"
   ]
  },
  {
   "cell_type": "markdown",
   "id": "seeing-timeline",
   "metadata": {
    "id": "6fIrJ09fRIYf"
   },
   "source": [
    "Lastly, we create a function that will compute the cross entropy loss."
   ]
  },
  {
   "cell_type": "code",
   "execution_count": 78,
   "id": "humanitarian-payday",
   "metadata": {
    "id": "wQvJ-ZvrjJT8"
   },
   "outputs": [],
   "source": [
    "from math import log2\n",
    "def cross_entropy_loss(y_hat, y_train):\n",
    "  for i in range(128):\n",
    "    for j in range(10):\n",
    "      yh = y_hat[i,j]\n",
    "      yt = y_train[i,j]\n",
    "      loss = yh * log2(yt)\n",
    "  return loss"
   ]
  },
  {
   "cell_type": "markdown",
   "id": "voluntary-philadelphia",
   "metadata": {
    "id": "Q5iQotszRI3P"
   },
   "source": [
    "We are now ready to run the full training loop."
   ]
  },
  {
   "cell_type": "code",
   "execution_count": 79,
   "id": "designed-television",
   "metadata": {
    "colab": {
     "base_uri": "https://localhost:8080/",
     "height": 334
    },
    "id": "_hY8Bw24lN-x",
    "outputId": "d3ee425b-ac96-4757-da79-a7d9122df215"
   },
   "outputs": [
    {
     "ename": "ValueError",
     "evalue": "ignored",
     "output_type": "error",
     "traceback": [
      "\u001b[0;31m---------------------------------------------------------------------------\u001b[0m",
      "\u001b[0;31mValueError\u001b[0m                                Traceback (most recent call last)",
      "\u001b[0;32m<ipython-input-79-ef194e6c3b2b>\u001b[0m in \u001b[0;36m<module>\u001b[0;34m()\u001b[0m\n\u001b[1;32m     10\u001b[0m       \u001b[0;32mfor\u001b[0m \u001b[0my_batch\u001b[0m \u001b[0;32min\u001b[0m \u001b[0my_batches\u001b[0m\u001b[0;34m:\u001b[0m\u001b[0;34m\u001b[0m\u001b[0;34m\u001b[0m\u001b[0m\n\u001b[1;32m     11\u001b[0m         \u001b[0my_hat\u001b[0m\u001b[0;34m,\u001b[0m \u001b[0mactivations\u001b[0m\u001b[0;34m,\u001b[0m \u001b[0mpost_activations\u001b[0m \u001b[0;34m=\u001b[0m \u001b[0mmlp\u001b[0m\u001b[0;34m(\u001b[0m\u001b[0mx_batch\u001b[0m\u001b[0;34m)\u001b[0m\u001b[0;34m\u001b[0m\u001b[0;34m\u001b[0m\u001b[0m\n\u001b[0;32m---> 12\u001b[0;31m         \u001b[0mlosses\u001b[0m\u001b[0;34m.\u001b[0m\u001b[0mappend\u001b[0m\u001b[0;34m(\u001b[0m\u001b[0mcross_entropy_loss\u001b[0m\u001b[0;34m(\u001b[0m\u001b[0my_hat\u001b[0m\u001b[0;34m,\u001b[0m \u001b[0my_batch\u001b[0m\u001b[0;34m)\u001b[0m\u001b[0;34m)\u001b[0m\u001b[0;34m\u001b[0m\u001b[0;34m\u001b[0m\u001b[0m\n\u001b[0m\u001b[1;32m     13\u001b[0m         \u001b[0mb_grads\u001b[0m\u001b[0;34m,\u001b[0m \u001b[0mW_grads\u001b[0m \u001b[0;34m=\u001b[0m \u001b[0mgrads\u001b[0m\u001b[0;34m(\u001b[0m\u001b[0mx_batch\u001b[0m\u001b[0;34m,\u001b[0m \u001b[0my_batch\u001b[0m\u001b[0;34m)\u001b[0m\u001b[0;34m\u001b[0m\u001b[0;34m\u001b[0m\u001b[0m\n\u001b[1;32m     14\u001b[0m         \u001b[0mb_gradients\u001b[0m \u001b[0;34m-=\u001b[0m \u001b[0mlearning_rate\u001b[0m \u001b[0;34m*\u001b[0m \u001b[0mb_grads\u001b[0m\u001b[0;34m\u001b[0m\u001b[0;34m\u001b[0m\u001b[0m\n",
      "\u001b[0;32m<ipython-input-78-32c9f61d188f>\u001b[0m in \u001b[0;36mcross_entropy_loss\u001b[0;34m(y_hat, y_train)\u001b[0m\n\u001b[1;32m      5\u001b[0m       \u001b[0myh\u001b[0m \u001b[0;34m=\u001b[0m \u001b[0my_hat\u001b[0m\u001b[0;34m[\u001b[0m\u001b[0mi\u001b[0m\u001b[0;34m,\u001b[0m\u001b[0mj\u001b[0m\u001b[0;34m]\u001b[0m\u001b[0;34m\u001b[0m\u001b[0;34m\u001b[0m\u001b[0m\n\u001b[1;32m      6\u001b[0m       \u001b[0myt\u001b[0m \u001b[0;34m=\u001b[0m \u001b[0my_train\u001b[0m\u001b[0;34m[\u001b[0m\u001b[0mi\u001b[0m\u001b[0;34m,\u001b[0m\u001b[0mj\u001b[0m\u001b[0;34m]\u001b[0m\u001b[0;34m\u001b[0m\u001b[0;34m\u001b[0m\u001b[0m\n\u001b[0;32m----> 7\u001b[0;31m       \u001b[0mloss\u001b[0m \u001b[0;34m=\u001b[0m \u001b[0myh\u001b[0m \u001b[0;34m*\u001b[0m \u001b[0mlog2\u001b[0m\u001b[0;34m(\u001b[0m\u001b[0myt\u001b[0m\u001b[0;34m)\u001b[0m\u001b[0;34m\u001b[0m\u001b[0;34m\u001b[0m\u001b[0m\n\u001b[0m\u001b[1;32m      8\u001b[0m   \u001b[0;32mreturn\u001b[0m \u001b[0mloss\u001b[0m\u001b[0;34m\u001b[0m\u001b[0;34m\u001b[0m\u001b[0m\n",
      "\u001b[0;31mValueError\u001b[0m: math domain error"
     ]
    }
   ],
   "source": [
    "# Run the training loop\n",
    "\n",
    "epochs = 40\n",
    "learning_rate = 0.01\n",
    "losses = []\n",
    "x_batches, y_batches = get_batches(x_train, y_train)\n",
    "\n",
    "for epoch in range(epochs):\n",
    "    for x_batch in x_batches: \n",
    "      for y_batch in y_batches:\n",
    "        y_hat, activations, post_activations = mlp(x_batch)\n",
    "        losses.append(cross_entropy_loss(y_hat, y_batch))\n",
    "        b_grads, W_grads = grads(x_batch, y_batch)\n",
    "        b_gradients -= learning_rate * b_grads\n",
    "        W_gradients -= learning_rate * W_grads"
   ]
  },
  {
   "cell_type": "code",
   "execution_count": null,
   "id": "liable-country",
   "metadata": {
    "id": "peripheral-facility"
   },
   "outputs": [],
   "source": [
    "# Plot the learning curve\n",
    "plt.plot(history.history['loss'])\n",
    "plt.xlabel(\"Epoch\")\n",
    "plt.ylabel(\"Cross entropy loss\")\n",
    "plt.title(\"Training loss vs Epoch with learning rate=0.01\")"
   ]
  },
  {
   "cell_type": "markdown",
   "id": "brilliant-folder",
   "metadata": {
    "id": "lightweight-monte"
   },
   "source": [
    "#### 1.1.2"
   ]
  },
  {
   "cell_type": "markdown",
   "id": "refined-moldova",
   "metadata": {
    "id": "northern-madagascar"
   },
   "source": [
    "For this task I would expect the model with a learning rate of 0.0001 to converge the slowest and 0.1 to converge the fastest."
   ]
  },
  {
   "cell_type": "markdown",
   "id": "olive-ethnic",
   "metadata": {
    "id": "numerous-recorder"
   },
   "source": [
    "#### 1.1.3\n",
    "In this task, we use 80 epochs. This allows us to use a smaller learning rate and hence get better results. This is because with a smaller learning rate, you take smaller steps to reach the optimal solution hence you are less likely to jump over the optimal solution. "
   ]
  },
  {
   "cell_type": "markdown",
   "id": "innovative-decrease",
   "metadata": {
    "id": "unexpected-estimate"
   },
   "source": [
    "### 1.2 Convolutional neural network (CNN)\n",
    "### 1.2.1 Implementing a CNN\n",
    "Using TensorFlow, we implement a CNN according to the following architecture:\n",
    "- Four hidden layers in total, first three are convolutional layers and the last is a fully-connected layer. \n",
    "- All convolutional layers apply 3 ✕ 3 feature maps, but the first uses 32 and the last two use 64 feature maps. \n",
    "- Between the convolutional layers there are 2 ✕ 2 maximum pooling layers.\n",
    "- The fully-connected layer has 64 neurons and is followed by an output layer with 10 neurons. \n",
    "- You should use ReLU as your activation function between all layers, and the softmax function as the activation function on the output layer. \n",
    "\n",
    "We begin by importing required libraries for this task."
   ]
  },
  {
   "cell_type": "code",
   "execution_count": 3,
   "id": "basic-thermal",
   "metadata": {
    "colab": {
     "base_uri": "https://localhost:8080/"
    },
    "id": "fallen-hygiene",
    "outputId": "05d91e8c-29da-4a60-9630-908a0fb02a8f"
   },
   "outputs": [
    {
     "name": "stdout",
     "output_type": "stream",
     "text": [
      "Downloading data from https://www.cs.toronto.edu/~kriz/cifar-10-python.tar.gz\n",
      "170500096/170498071 [==============================] - 6s 0us/step\n"
     ]
    }
   ],
   "source": [
    "from tensorflow.keras.models import Sequential\n",
    "from tensorflow.keras.layers import Conv2D, MaxPooling2D, Flatten, Dense\n",
    "from tensorflow.keras.regularizers import l2\n",
    "import os\n",
    "os.environ['KMP_DUPLICATE_LIB_OK']='True'\n",
    "\n",
    "(x_train, y_train), (x_val, y_val) = load_data()"
   ]
  },
  {
   "cell_type": "markdown",
   "id": "determined-respect",
   "metadata": {
    "id": "lyric-bunny"
   },
   "source": [
    "I do not rescale the data as it appears to already be between the interval $[0,1]$. I use the Conv2D and MaxPool2D functions as we are dealing with a 2-dimensional dataset (images). I define the input shape to be (32, 32, 3) because the images are 32x32 pixels and have a colour scale (that corresponds to 3 colours - red, blue, yellow). We define the model below according to the required achitecture:"
   ]
  },
  {
   "cell_type": "code",
   "execution_count": 29,
   "id": "continuing-shadow",
   "metadata": {
    "id": "reduced-lecture"
   },
   "outputs": [],
   "source": [
    "model = Sequential([\n",
    "    Conv2D(32, (3, 3), activation='relu', input_shape=(32, 32, 3)), # conv layer 1\n",
    "    MaxPooling2D((2,2)),\n",
    "    Conv2D(64, (3, 3), activation='relu'), # conv layer 2\n",
    "    MaxPooling2D((2,2)),\n",
    "    Conv2D(64, (3, 3), activation='relu'), # conv layer 3\n",
    "    Flatten(),\n",
    "    Dense(64, activation='relu'),   # fully connected layer\n",
    "    Dense(10, activation='softmax') # output layer\n",
    "    ])"
   ]
  },
  {
   "cell_type": "markdown",
   "id": "arbitrary-restriction",
   "metadata": {
    "id": "mighty-headquarters"
   },
   "source": [
    "We fix the optimisation method to be stochastic gradient descent (SGD), and use the categorical cross-entropy as the loss function because of the one hot encoding of the y. \n"
   ]
  },
  {
   "cell_type": "code",
   "execution_count": 30,
   "id": "baking-reference",
   "metadata": {
    "id": "congressional-substitute"
   },
   "outputs": [],
   "source": [
    "# compile the model\n",
    "sgd = tf.keras.optimizers.SGD(learning_rate=0.1) # optimizer\n",
    "\n",
    "model.compile(loss='categorical_crossentropy', optimizer=sgd, metrics=['accuracy'])"
   ]
  },
  {
   "cell_type": "code",
   "execution_count": 6,
   "id": "immune-sharp",
   "metadata": {
    "colab": {
     "base_uri": "https://localhost:8080/"
    },
    "id": "billion-repair",
    "outputId": "82cace0e-ef88-4b6d-a03b-ead72536c6c5"
   },
   "outputs": [
    {
     "name": "stdout",
     "output_type": "stream",
     "text": [
      "Model: \"sequential\"\n",
      "_________________________________________________________________\n",
      "Layer (type)                 Output Shape              Param #   \n",
      "=================================================================\n",
      "conv2d (Conv2D)              (None, 30, 30, 32)        896       \n",
      "_________________________________________________________________\n",
      "max_pooling2d (MaxPooling2D) (None, 15, 15, 32)        0         \n",
      "_________________________________________________________________\n",
      "conv2d_1 (Conv2D)            (None, 13, 13, 64)        18496     \n",
      "_________________________________________________________________\n",
      "max_pooling2d_1 (MaxPooling2 (None, 6, 6, 64)          0         \n",
      "_________________________________________________________________\n",
      "conv2d_2 (Conv2D)            (None, 4, 4, 64)          36928     \n",
      "_________________________________________________________________\n",
      "flatten (Flatten)            (None, 1024)              0         \n",
      "_________________________________________________________________\n",
      "dense (Dense)                (None, 64)                65600     \n",
      "_________________________________________________________________\n",
      "dense_1 (Dense)              (None, 10)                650       \n",
      "=================================================================\n",
      "Total params: 122,570\n",
      "Trainable params: 122,570\n",
      "Non-trainable params: 0\n",
      "_________________________________________________________________\n"
     ]
    }
   ],
   "source": [
    "# print the model summary\n",
    "model.summary()"
   ]
  },
  {
   "cell_type": "markdown",
   "id": "temporal-noise",
   "metadata": {
    "id": "latest-fetish"
   },
   "source": [
    "We now train this model on batches of 128 data points with a learning rate of 0.1 for 40 epochs. I also add the validation data to the fit so that we can later evaluate whether there was overfitting or underfitting."
   ]
  },
  {
   "cell_type": "code",
   "execution_count": 7,
   "id": "welsh-homework",
   "metadata": {
    "id": "adjacent-compiler"
   },
   "outputs": [],
   "source": [
    "history = model.fit(x_train, y_train, epochs=40, batch_size=128, validation_data=(x_val, y_val), validation_batch_size=128, verbose=0)"
   ]
  },
  {
   "cell_type": "markdown",
   "id": "characteristic-helicopter",
   "metadata": {
    "id": "backed-glenn"
   },
   "source": [
    "We now plot the loss function and the accuracy of this model as a function of the number of epochs.\n"
   ]
  },
  {
   "cell_type": "code",
   "execution_count": 8,
   "id": "continuing-modification",
   "metadata": {
    "colab": {
     "base_uri": "https://localhost:8080/",
     "height": 404
    },
    "id": "worthy-verse",
    "outputId": "8fe93d38-a680-4d68-f2f9-a1fcb61be3e7"
   },
   "outputs": [
    {
     "data": {
      "image/png": "[encoded data removed]",
      "text/plain": [
       "<Figure size 1224x432 with 2 Axes>"
      ]
     },
     "metadata": {
      "needs_background": "light",
      "tags": []
     },
     "output_type": "display_data"
    }
   ],
   "source": [
    "fig = plt.figure(figsize=(17, 6))\n",
    "# loss against number of epochs\n",
    "fig.add_subplot(121)\n",
    "plt.plot(history.history['loss'])\n",
    "plt.plot(history.history['val_loss'])\n",
    "plt.title('Loss vs. epochs')\n",
    "plt.ylabel('Loss')\n",
    "plt.xlabel('Epoch')\n",
    "plt.legend(['Training', 'Validation'], loc='upper right')\n",
    "# accuracy against number of epochs\n",
    "fig.add_subplot(122)\n",
    "plt.plot(history.history['accuracy'])\n",
    "plt.plot(history.history['val_accuracy'])\n",
    "plt.title('Accuracy vs. epochs')\n",
    "plt.ylabel('Accuracy')\n",
    "plt.xlabel('Epoch')\n",
    "plt.legend(['Training', 'Validation'], loc='lower right')\n",
    "plt.show()"
   ]
  },
  {
   "cell_type": "markdown",
   "id": "enhanced-disco",
   "metadata": {
    "id": "german-sunday"
   },
   "source": [
    "From the graphs above, there appears to be severe overfitting as the number of epochs increases: on the \"Loss vs. epochs\" plot, the validation loss is going very high while the training loss continues to go down and on the \"Accuracy vs. Epoch\" plot, the training accuracy is greater than the validation accuracy. This gap is called the generalisation gap. If there was no overfitting or underfitting, we would expect the validation loss to closely follow the training loss curve, hence having a small generalisation gap. This is why we will use regularisation methods in the next section to see whether we can reduce the overfitting. \n",
    "\n",
    "With regards to convergence, I look at how quickly the loss and accuracy curves flatten out. In this case, converge is not a good indicator of how well the model is performing because whilst the training loss decreases, the validation loss increases. With a learning rate of 0.1 (which is quite high compared of other learning rates like 0.001, 0.005 etc), this model perhaps doesn't converge well because we miss the optimal solutions as we are taking too large \"steps\"."
   ]
  },
  {
   "cell_type": "markdown",
   "id": "requested-climate",
   "metadata": {
    "id": "prescribed-warrior"
   },
   "source": [
    "### 1.2.2 Adding L2 regularisation in the CNN model\n",
    "\n",
    "Models in deep learning are often very large with lots and lots of parameters therefore they often face the issue of overfitting. There exists many reguralisers that deal with overfitting and we will explore these in the next few tasks. We begin by incorporating an L2 regularisation with a coefficient of $5$x$10^{-3}$ in all convolutional layers and compare the loss and accuracy to the model we defined in the task above (task 1.2.1).\n",
    "\n",
    "L2 regularisation is a weight reguralisation technique, it adds a penalty term to the loss function to regularise the model. The penalty terms stop the weights from growing too large where they would constrain the capacity of the model so that in does not become too complex. It is possible to add regularisation terms for the bias term aswell but here we will only be regularising the weights. L2 reguralsation can be described as follows:\n",
    "$$\n",
    "J(w, b)=\\frac{1}{m}\\sum_{i=1}^mL(\\hat{y}^{(i)}, y^{(i)})+\\frac{\\lambda}{2m}||w||^2\n",
    "$$\n",
    "where $w$ is the weights, $b$ is the bias terms, $L$ is the cost function of the network and $\\frac{\\lambda}{2m}||w||^2$ is the added reguralisation term. As we can see from this function, the larger $\\lambda$ is, the more the weights are penalised (they would have values close to zero). The activations would therefore reduce and the effect of forward propagation would decrease (1). "
   ]
  },
  {
   "cell_type": "code",
   "execution_count": 9,
   "id": "fluid-fellowship",
   "metadata": {
    "id": "broke-explosion"
   },
   "outputs": [],
   "source": [
    "# import required package\n",
    "from tensorflow.keras import regularizers\n",
    "\n",
    "# L2 regularisation coefficient\n",
    "l2_coeff = 5e-3"
   ]
  },
  {
   "cell_type": "code",
   "execution_count": 11,
   "id": "ranging-sunday",
   "metadata": {
    "id": "dominican-rental"
   },
   "outputs": [],
   "source": [
    "# define and compile model \n",
    "def get_regularized_model():\n",
    "    model = Sequential([\n",
    "        Conv2D(32, (3, 3), activation='relu', kernel_regularizer=regularizers.l2(l2_coeff), input_shape=(32, 32, 3)),\n",
    "        MaxPooling2D((2, 2)),\n",
    "        Conv2D(64, (3, 3), activation='relu', kernel_regularizer=regularizers.l2(l2_coeff)),\n",
    "        MaxPooling2D((2, 2)),\n",
    "        Conv2D(64, (3, 3), activation='relu', kernel_regularizer=regularizers.l2(l2_coeff)),\n",
    "        Flatten(),\n",
    "        Dense(64, activation='relu'),\n",
    "        Dense(10, activation='softmax')\n",
    "        ])\n",
    "    model.compile(loss='categorical_crossentropy', optimizer='sgd', metrics=['accuracy'])\n",
    "    return model\n",
    "\n",
    "l2_regularised_model = get_regularized_model()"
   ]
  },
  {
   "cell_type": "code",
   "execution_count": 13,
   "id": "separated-decade",
   "metadata": {
    "colab": {
     "base_uri": "https://localhost:8080/"
    },
    "id": "dangerous-kansas",
    "outputId": "9fcad6e9-0b13-49b4-f8d6-9039ada127f5"
   },
   "outputs": [
    {
     "name": "stdout",
     "output_type": "stream",
     "text": [
      "Model: \"sequential_2\"\n",
      "_________________________________________________________________\n",
      "Layer (type)                 Output Shape              Param #   \n",
      "=================================================================\n",
      "conv2d_6 (Conv2D)            (None, 30, 30, 32)        896       \n",
      "_________________________________________________________________\n",
      "max_pooling2d_4 (MaxPooling2 (None, 15, 15, 32)        0         \n",
      "_________________________________________________________________\n",
      "conv2d_7 (Conv2D)            (None, 13, 13, 64)        18496     \n",
      "_________________________________________________________________\n",
      "max_pooling2d_5 (MaxPooling2 (None, 6, 6, 64)          0         \n",
      "_________________________________________________________________\n",
      "conv2d_8 (Conv2D)            (None, 4, 4, 64)          36928     \n",
      "_________________________________________________________________\n",
      "flatten_2 (Flatten)          (None, 1024)              0         \n",
      "_________________________________________________________________\n",
      "dense_4 (Dense)              (None, 64)                65600     \n",
      "_________________________________________________________________\n",
      "dense_5 (Dense)              (None, 10)                650       \n",
      "=================================================================\n",
      "Total params: 122,570\n",
      "Trainable params: 122,570\n",
      "Non-trainable params: 0\n",
      "_________________________________________________________________\n"
     ]
    }
   ],
   "source": [
    "# get model summary\n",
    "l2_regularised_model.summary()"
   ]
  },
  {
   "cell_type": "code",
   "execution_count": 14,
   "id": "controversial-extra",
   "metadata": {
    "id": "offensive-shakespeare"
   },
   "outputs": [],
   "source": [
    "# train the model\n",
    "history_1 = l2_regularised_model.fit(x_train, y_train, epochs=40, batch_size=128, validation_data=(x_val, y_val), validation_batch_size=128, verbose=False) "
   ]
  },
  {
   "cell_type": "code",
   "execution_count": 15,
   "id": "shared-characterization",
   "metadata": {
    "colab": {
     "base_uri": "https://localhost:8080/",
     "height": 404
    },
    "id": "breathing-royalty",
    "outputId": "259bc8a9-e6f9-4cab-ac8f-57d57359d298"
   },
   "outputs": [
    {
     "data": {
      "image/png": "[encoded data removed]",
      "text/plain": [
       "<Figure size 1224x432 with 2 Axes>"
      ]
     },
     "metadata": {
      "needs_background": "light",
      "tags": []
     },
     "output_type": "display_data"
    }
   ],
   "source": [
    "fig = plt.figure(figsize=(17, 6))\n",
    "# loss against number of epochs\n",
    "fig.add_subplot(121)\n",
    "plt.plot(history_1.history['loss'])\n",
    "plt.plot(history_1.history['val_loss'])\n",
    "plt.title('Loss vs. epochs')\n",
    "plt.ylabel('Loss')\n",
    "plt.xlabel('Epoch')\n",
    "plt.legend(['Training', 'Validation'], loc='upper right')\n",
    "# accuracy against number of epochs\n",
    "fig.add_subplot(122)\n",
    "plt.plot(history_1.history['accuracy'])\n",
    "plt.plot(history_1.history['val_accuracy'])\n",
    "plt.title('Accuracy vs. epochs')\n",
    "plt.ylabel('Accuracy')\n",
    "plt.xlabel('Epoch')\n",
    "plt.legend(['Training', 'Validation'], loc='lower right')\n",
    "plt.show()"
   ]
  },
  {
   "cell_type": "markdown",
   "id": "incredible-huntington",
   "metadata": {
    "id": "proud-climate"
   },
   "source": [
    "As we can see from the graphs, L2 regularization has practically removed the overfitting. Although the validation loss is still slightly higher than the training loss, and the validation accuracy is still slightly below the training accurary, the generalisation gap has drastically decreased. Another observation we can make is that the validation curves on both graphs are much more wavy compared to the smooth training curves. Compared to the previous model with no regularizers, the training curves reaches higher loss values and lower accuracy values which would initially make us think that the model has performed worst but this is contrary as the validation curve now reaches a smaller loss and similar accuracy values. This means that the model now generalises better."
   ]
  },
  {
   "cell_type": "markdown",
   "id": "stopped-memphis",
   "metadata": {
    "id": "introductory-sharing"
   },
   "source": [
    "### 1.2.3 Adding Dropout and another regularisation method\n",
    "For this task, I will start with the unregularised network of Task 1.2.1, implement Dropout with a rate of\n",
    "0.5 and at least one other regularisation method, I have chosen to use early stopping.\n",
    "\n",
    "#### Dropout\n",
    "Dropout not only has a regularisation effect but it also has an impact on the way neurons learn. During training, dropout randomly drops some of the neurons and their connections within a hidden layer so only the connections that are left will recieve a gradient and get updated by the optimizer. After training has been completed, we restore all of the connections of the netwroks but because we have been droping neurons during training, we need to scale down the weights by the same proportion. Dropout regularises the network because it is like sampling on mini-batches when we remove neurons. \n",
    "\n",
    "After doing some research, I found that it is best to implement Dropout in between the hidden layers of the model as the idea behind Dropout is to reduce the interdependency between neurons in the hidden layers. I ran the model a few times with different set ups (a Dropout layer between every hidden layer, only 2 Dropout layers after 2 hidden layers etc.) and found that the model had the highest accuracy, smallest loss and least overfitting occured when I put a Dropout layer only after the first convolutional layer."
   ]
  },
  {
   "cell_type": "code",
   "execution_count": 20,
   "id": "coordinate-ground",
   "metadata": {
    "id": "covered-secretary"
   },
   "outputs": [],
   "source": [
    "# import required packages and set dropout rate\n",
    "from tensorflow.keras.layers import Dropout\n",
    "dropout_rate = 0.5"
   ]
  },
  {
   "cell_type": "code",
   "execution_count": 21,
   "id": "greater-liberia",
   "metadata": {
    "id": "immune-carbon"
   },
   "outputs": [],
   "source": [
    "# CNN with Dropout\n",
    "def get_model_2():\n",
    "    model_2 = Sequential([\n",
    "        Conv2D(32, (3, 3), activation='relu', input_shape=(32, 32, 3)),\n",
    "        MaxPooling2D((2, 2)),\n",
    "        Dropout(dropout_rate), # added dropout layer\n",
    "        Conv2D(64, (3, 3), activation='relu'),\n",
    "        MaxPooling2D((2, 2)),\n",
    "        Conv2D(64, (3, 3), activation='relu'),\n",
    "        MaxPooling2D((2, 2)),\n",
    "        Flatten(),\n",
    "        Dense(64, activation='relu'),\n",
    "        Dense(10, activation='softmax')\n",
    "        ])\n",
    "    model_2.compile(loss='categorical_crossentropy', optimizer='sgd', metrics=['accuracy'])\n",
    "    return model_2\n",
    "\n",
    "dropout_model = get_model_2()"
   ]
  },
  {
   "cell_type": "code",
   "execution_count": 22,
   "id": "adequate-terrace",
   "metadata": {
    "id": "unknown-government"
   },
   "outputs": [],
   "source": [
    "# train the model\n",
    "history_2 = dropout_model.fit(x_train, y_train, epochs=40, batch_size=128, validation_data=(x_val, y_val), validation_batch_size=128, verbose=False) "
   ]
  },
  {
   "cell_type": "code",
   "execution_count": 23,
   "id": "tropical-color",
   "metadata": {
    "colab": {
     "base_uri": "https://localhost:8080/",
     "height": 404
    },
    "id": "behavioral-empty",
    "outputId": "423e2901-6259-42f9-eeb4-5eabc2e05ec8"
   },
   "outputs": [
    {
     "data": {
      "image/png": "[encoded data removed]",
      "text/plain": [
       "<Figure size 1224x432 with 2 Axes>"
      ]
     },
     "metadata": {
      "needs_background": "light",
      "tags": []
     },
     "output_type": "display_data"
    }
   ],
   "source": [
    "fig = plt.figure(figsize=(17, 6))\n",
    "# loss against number of epochs\n",
    "fig.add_subplot(121)\n",
    "plt.plot(history_2.history['loss'])\n",
    "plt.plot(history_2.history['val_loss'])\n",
    "plt.title('Loss vs. epochs')\n",
    "plt.ylabel('Loss')\n",
    "plt.xlabel('Epoch')\n",
    "plt.legend(['Training', 'Validation'], loc='upper right')\n",
    "# accuracy against number of epochs\n",
    "fig.add_subplot(122)\n",
    "plt.plot(history_2.history['accuracy'])\n",
    "plt.plot(history_2.history['val_accuracy'])\n",
    "plt.title('Accuracy vs. epochs')\n",
    "plt.ylabel('Accuracy')\n",
    "plt.xlabel('Epoch')\n",
    "plt.legend(['Training', 'Validation'], loc='lower right')\n",
    "plt.show()"
   ]
  },
  {
   "cell_type": "markdown",
   "id": "still-leisure",
   "metadata": {
    "id": "cordless-flight"
   },
   "source": [
    "Dropout appears to be performing slightly worst than the L2-reguraliser in the task above, the L2 regulariser reaches an accuracy of roughly 65% by the 40th epoch whereas Dropout only reaches roughly 59%. Also, the loss with the L2-regulariser is smaller than the loss for the model with Dropout. The converge here also appears to be slower than the model with the L2-regularizer as the loss curve and accuracy curve take longer to flatten. Although implementing Dropout has drastically reduced the generalization gap from the initial model with no regularisers, it underperformed compared to the L2-regulariser. "
   ]
  },
  {
   "cell_type": "markdown",
   "id": "acquired-arcade",
   "metadata": {
    "id": "corporate-charleston"
   },
   "source": [
    "#### Early Stopping\n",
    "We now move onto implementing the last CNN model with another regularisation method. I have chosen to use early stopping. Early stopping cuts the training off before any significant overfitting can take place. I set the patience equal to 15, this corresponds to the number of epochs that the performance is allowed to not improve on the best performnce before the training has terminated."
   ]
  },
  {
   "cell_type": "code",
   "execution_count": null,
   "id": "competent-colonial",
   "metadata": {
    "id": "e_3modAL_kon"
   },
   "outputs": [],
   "source": [
    "# recall model from tast 1.2.1\n",
    "model = Sequential([\n",
    "    Conv2D(32, (3, 3), activation='relu', input_shape=(32, 32, 3)), # conv layer 1\n",
    "    MaxPooling2D((2,2)),\n",
    "    Conv2D(64, (3, 3), activation='relu'), # conv layer 2\n",
    "    MaxPooling2D((2,2)),\n",
    "    Conv2D(64, (3, 3), activation='relu'), # conv layer 3\n",
    "    Flatten(),\n",
    "    Dense(64, activation='relu'),   # fully connected layer\n",
    "    Dense(10, activation='softmax') # output layer\n",
    "    ])\n",
    "\n",
    "# compile the model\n",
    "sgd = tf.keras.optimizers.SGD(learning_rate=0.1) # optimizer\n",
    "model.compile(loss='categorical_crossentropy', optimizer=sgd, metrics=['accuracy'])"
   ]
  },
  {
   "cell_type": "code",
   "execution_count": 31,
   "id": "likely-mainstream",
   "metadata": {
    "id": "double-small"
   },
   "outputs": [],
   "source": [
    "# Train the model, using early stopping\n",
    "from tensorflow.keras.callbacks import EarlyStopping\n",
    "\n",
    "def earlystopping_model(model):\n",
    "    early_stopping = EarlyStopping(patience=15, monitor='val_accuracy')\n",
    "    history = model.fit(x_train, y_train, epochs=40, batch_size=128, validation_data=(x_val, y_val), \n",
    "                        validation_batch_size=128, callbacks=[early_stopping], verbose=False)\n",
    "    return history\n",
    "\n",
    "history_3 = earlystopping_model(model)"
   ]
  },
  {
   "cell_type": "code",
   "execution_count": 32,
   "id": "middle-civilian",
   "metadata": {
    "colab": {
     "base_uri": "https://localhost:8080/",
     "height": 404
    },
    "id": "incorporated-armenia",
    "outputId": "d6acdd94-8548-47ac-afb0-112a6e0823cd"
   },
   "outputs": [
    {
     "data": {
      "image/png": "[encoded data removed]",
      "text/plain": [
       "<Figure size 1224x432 with 2 Axes>"
      ]
     },
     "metadata": {
      "needs_background": "light",
      "tags": []
     },
     "output_type": "display_data"
    }
   ],
   "source": [
    "fig = plt.figure(figsize=(17, 6))\n",
    "# loss against number of epochs\n",
    "fig.add_subplot(121)\n",
    "plt.plot(history_3.history['loss'])\n",
    "plt.plot(history_3.history['val_loss'])\n",
    "plt.title('Loss vs. epochs')\n",
    "plt.ylabel('Loss')\n",
    "plt.xlabel('Epoch')\n",
    "plt.legend(['Training', 'Validation'], loc='upper right')\n",
    "# accuracy against number of epochs\n",
    "fig.add_subplot(122)\n",
    "plt.plot(history_3.history['accuracy'])\n",
    "plt.plot(history_3.history['val_accuracy'])\n",
    "plt.title('Accuracy vs. epochs')\n",
    "plt.ylabel('Accuracy')\n",
    "plt.xlabel('Epoch')\n",
    "plt.legend(['Training', 'Validation'], loc='lower right')\n",
    "plt.show()"
   ]
  },
  {
   "cell_type": "markdown",
   "id": "martial-carpet",
   "metadata": {
    "id": "sexual-collaboration"
   },
   "source": [
    "From the graphs, we can see the training terminated after epoch 31, however there is still a very large generalization gap and not much improvement from the model in task 1.2.1. I therefore try reducing the patience to see whether we get better results."
   ]
  },
  {
   "cell_type": "code",
   "execution_count": 35,
   "id": "rolled-district",
   "metadata": {
    "id": "oX6GNRL3AGRt"
   },
   "outputs": [],
   "source": [
    "# recall model from tast 1.2.1\n",
    "model = Sequential([\n",
    "    Conv2D(32, (3, 3), activation='relu', input_shape=(32, 32, 3)), # conv layer 1\n",
    "    MaxPooling2D((2,2)),\n",
    "    Conv2D(64, (3, 3), activation='relu'), # conv layer 2\n",
    "    MaxPooling2D((2,2)),\n",
    "    Conv2D(64, (3, 3), activation='relu'), # conv layer 3\n",
    "    Flatten(),\n",
    "    Dense(64, activation='relu'),   # fully connected layer\n",
    "    Dense(10, activation='softmax') # output layer\n",
    "    ])\n",
    "\n",
    "# compile the model\n",
    "sgd = tf.keras.optimizers.SGD(learning_rate=0.1) # optimizer\n",
    "model.compile(loss='categorical_crossentropy', optimizer=sgd, metrics=['accuracy'])"
   ]
  },
  {
   "cell_type": "code",
   "execution_count": 36,
   "id": "olive-duncan",
   "metadata": {
    "id": "KCe8Bn1M_46Z"
   },
   "outputs": [],
   "source": [
    "# Train the model, using early stopping\n",
    "from tensorflow.keras.callbacks import EarlyStopping\n",
    "\n",
    "def earlystopping_model(model):\n",
    "    early_stopping = EarlyStopping(patience=5, monitor='val_accuracy')\n",
    "    history = model.fit(x_train, y_train, epochs=40, batch_size=128, validation_data=(x_val, y_val), \n",
    "                        validation_batch_size=128, callbacks=[early_stopping], verbose=False)\n",
    "    return history\n",
    "\n",
    "history_3 = earlystopping_model(model)"
   ]
  },
  {
   "cell_type": "code",
   "execution_count": 37,
   "id": "related-violence",
   "metadata": {
    "colab": {
     "base_uri": "https://localhost:8080/",
     "height": 404
    },
    "id": "pv6SlGqvADVM",
    "outputId": "3659af98-7cd6-4f8d-d5ff-8901cb984a6f"
   },
   "outputs": [
    {
     "data": {
      "image/png": "[encoded data removed]",
      "text/plain": [
       "<Figure size 1224x432 with 2 Axes>"
      ]
     },
     "metadata": {
      "needs_background": "light",
      "tags": []
     },
     "output_type": "display_data"
    }
   ],
   "source": [
    "fig = plt.figure(figsize=(17, 6))\n",
    "# loss against number of epochs\n",
    "fig.add_subplot(121)\n",
    "plt.plot(history_3.history['loss'])\n",
    "plt.plot(history_3.history['val_loss'])\n",
    "plt.title('Loss vs. epochs')\n",
    "plt.ylabel('Loss')\n",
    "plt.xlabel('Epoch')\n",
    "plt.legend(['Training', 'Validation'], loc='upper right')\n",
    "# accuracy against number of epochs\n",
    "fig.add_subplot(122)\n",
    "plt.plot(history_3.history['accuracy'])\n",
    "plt.plot(history_3.history['val_accuracy'])\n",
    "plt.title('Accuracy vs. epochs')\n",
    "plt.ylabel('Accuracy')\n",
    "plt.xlabel('Epoch')\n",
    "plt.legend(['Training', 'Validation'], loc='lower right')\n",
    "plt.show()"
   ]
  },
  {
   "cell_type": "markdown",
   "id": "sustainable-signal",
   "metadata": {
    "id": "WZqwoGeMAcGG"
   },
   "source": [
    "Indeed, with a patience of 5, the model stops training after 18 epochs and we indeed get a reduced generalisation gap. However, this model performs much worst than the model with L2 regularisation above. We can therefore conclude that Dropout and L2 regularisation were the best regularisers for this model."
   ]
  },
  {
   "cell_type": "markdown",
   "id": "surface-bobby",
   "metadata": {
    "id": "continent-skill"
   },
   "source": [
    "#### 1.2.4\n",
    "Compare the results obtained with the MLP in 1.1.1 to the results obtained with the CNN in 1.2.3\n",
    "with Dropout in terms of accuracy, computational time for training over the same number of epochs, and\n",
    "number of parameters in the models. Explain the observed differences."
   ]
  },
  {
   "cell_type": "code",
   "execution_count": 38,
   "id": "bacterial-skiing",
   "metadata": {
    "colab": {
     "base_uri": "https://localhost:8080/"
    },
    "id": "differential-madrid",
    "outputId": "e303a15e-9606-46db-cff9-719b2632e5d8"
   },
   "outputs": [
    {
     "name": "stdout",
     "output_type": "stream",
     "text": [
      "Time elapsed for training CNN with Dropout: 137.477765309\n"
     ]
    }
   ],
   "source": [
    "# train the CNN model with Dropout and time it\n",
    "import timeit\n",
    "start_time = timeit.default_timer()\n",
    "history_2 = dropout_model.fit(x_train, y_train, epochs=40, batch_size=128, validation_data=(x_val, y_val), validation_batch_size=128, verbose=False) \n",
    "end_time = timeit.default_timer()\n",
    "elapsed_time = end_time - start_time\n",
    "print (\"Time elapsed for training CNN with Dropout:\", elapsed_time)"
   ]
  },
  {
   "cell_type": "markdown",
   "id": "about-cambodia",
   "metadata": {
    "id": "kYaFdmSGBJFb"
   },
   "source": [
    "There is an extra parameter in the CNN model with Dropout as we have the dropout rate.\n",
    "Also, for the CNN model in 1.2.3, we got to use in-buily neural network functions in Python which made computational time much quicker than for the MLP model in 1.1.1\n",
    "\n",
    "In task 1.1.1, we are training the MLP with a learning rate of 0.01 however, in 1.2.3, when we implement CNN with Dropout, we are using a learning rate of 0.1. I do believe this creates differences: with a high learning rate, you are likely to miss out on the optimal solution, however, with a smaller learning rate, there is a larger computational time. There is a trade off between the two. This is another point as to why the training time with CNN is lower (it had a smaller learning rate).\n",
    "\n",
    "In terms of training time, training CNN with Dropout takes about 137.5 seconds."
   ]
  },
  {
   "cell_type": "markdown",
   "id": "ruled-petersburg",
   "metadata": {
    "id": "loving-specialist"
   },
   "source": [
    "## Task 2: Unsupervised learning\n",
    "In this task, we will work with a dataset associated with Zachary's karate club. This is a classic small dataset in social science describing a karate club that eventually split acrimoniously into two separate groups.\n",
    "### 2.1 Clustering of the feature matrix\n",
    "### 2.1.1 K-means\n",
    "\n",
    "In this first part, we aim to obtain optimised clusterings by running k-means from $100$ random initialisations for all values of $k$ in the interval $[2, 10]$ and to plot the average within-cluster distance as a function of $k$. \n",
    "\n",
    "K-means is an unsupervised machine learning technique that aims at grouping oberservations into clusters. The clusters are formed by minimizing the sum of the distance of points from their respective cluster centroids. It is a clustering problem that follows this algorithm:\n",
    "1. Given a number of clusters $k$, assign every sample to one of the $k$ clusters at random.\n",
    "2. Compute the centroid of each of the $k$ clusters:\n",
    "$$\n",
    "\\textbf{m}_l=\\frac{1}{|c_l|}\\sum_{i \\in c_l}\\textbf{x}^{(i)},     l=1,...,k\n",
    "$$\n",
    "3. Reassign each $\\textbf{x}^{(i)}$ to the closest centroid. Mathematically speaking, we consider the cluster assigned to $\\textbf{x}^{(i)}$ at iteration $t$, which is denoted by $l_i^{(t)}$, and evaluate the following:\n",
    "$$\n",
    "l_i^{(t+1)}=argmin_l||\\textbf{x}^{(i)} - \\textbf{m}_l||^2\n",
    "$$\n",
    "4. Iterate steps 1 and 2 until convergence, i.e. $W(C)$ does not improve much or the assignments do not change.\n"
   ]
  },
  {
   "cell_type": "markdown",
   "id": "featured-european",
   "metadata": {
    "id": "fifth-prompt"
   },
   "source": [
    "Before we begin, we start with a bit of **Explanatory Data Analysis** to see what our data looks like. The feature matrix is a 34 x 100 matrix that corresponds to a set of features characterising the personality profile of all the individuals. There are $N=34$ samples/indivuduals and $p=100$ features capturing different traits."
   ]
  },
  {
   "cell_type": "code",
   "execution_count": 39,
   "id": "numerous-strand",
   "metadata": {
    "colab": {
     "base_uri": "https://localhost:8080/",
     "height": 325,
     "resources": {
      "http://localhost:8080/nbextensions/google.colab/files.js": {
       "data": "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",
       "headers": [
        [
         "content-type",
         "application/javascript"
        ]
       ],
       "ok": true,
       "status": 200,
       "status_text": ""
      }
     }
    },
    "id": "aggressive-danish",
    "outputId": "9b93b868-d871-484e-ffe7-b919c4ed33b1"
   },
   "outputs": [
    {
     "data": {
      "text/html": [
       "\n",
       "     <input type=\"file\" id=\"files-df14c36a-575a-4ba9-af64-7fa148702d62\" name=\"files[]\" multiple disabled\n",
       "        style=\"border:none\" />\n",
       "     <output id=\"result-df14c36a-575a-4ba9-af64-7fa148702d62\">\n",
       "      Upload widget is only available when the cell has been executed in the\n",
       "      current browser session. Please rerun this cell to enable.\n",
       "      </output>\n",
       "      <script src=\"/nbextensions/google.colab/files.js\"></script> "
      ],
      "text/plain": [
       "<IPython.core.display.HTML object>"
      ]
     },
     "metadata": {
      "tags": []
     },
     "output_type": "display_data"
    },
    {
     "name": "stdout",
     "output_type": "stream",
     "text": [
      "Saving feature_matrix_karate_club.csv to feature_matrix_karate_club.csv\n"
     ]
    },
    {
     "data": {
      "text/html": [
       "<div>\n",
       "<style scoped>\n",
       "    .dataframe tbody tr th:only-of-type {\n",
       "        vertical-align: middle;\n",
       "    }\n",
       "\n",
       "    .dataframe tbody tr th {\n",
       "        vertical-align: top;\n",
       "    }\n",
       "\n",
       "    .dataframe thead th {\n",
       "        text-align: right;\n",
       "    }\n",
       "</style>\n",
       "<table border=\"1\" class=\"dataframe\">\n",
       "  <thead>\n",
       "    <tr style=\"text-align: right;\">\n",
       "      <th></th>\n",
       "      <th>Unnamed: 0</th>\n",
       "      <th>0</th>\n",
       "      <th>1</th>\n",
       "      <th>2</th>\n",
       "      <th>3</th>\n",
       "      <th>4</th>\n",
       "      <th>5</th>\n",
       "      <th>6</th>\n",
       "      <th>7</th>\n",
       "      <th>8</th>\n",
       "      <th>9</th>\n",
       "      <th>10</th>\n",
       "      <th>11</th>\n",
       "      <th>12</th>\n",
       "      <th>13</th>\n",
       "      <th>14</th>\n",
       "      <th>15</th>\n",
       "      <th>16</th>\n",
       "      <th>17</th>\n",
       "      <th>18</th>\n",
       "      <th>19</th>\n",
       "      <th>20</th>\n",
       "      <th>21</th>\n",
       "      <th>22</th>\n",
       "      <th>23</th>\n",
       "      <th>24</th>\n",
       "      <th>25</th>\n",
       "      <th>26</th>\n",
       "      <th>27</th>\n",
       "      <th>28</th>\n",
       "      <th>29</th>\n",
       "      <th>30</th>\n",
       "      <th>31</th>\n",
       "      <th>32</th>\n",
       "      <th>33</th>\n",
       "      <th>34</th>\n",
       "      <th>35</th>\n",
       "      <th>36</th>\n",
       "      <th>37</th>\n",
       "      <th>38</th>\n",
       "      <th>...</th>\n",
       "      <th>60</th>\n",
       "      <th>61</th>\n",
       "      <th>62</th>\n",
       "      <th>63</th>\n",
       "      <th>64</th>\n",
       "      <th>65</th>\n",
       "      <th>66</th>\n",
       "      <th>67</th>\n",
       "      <th>68</th>\n",
       "      <th>69</th>\n",
       "      <th>70</th>\n",
       "      <th>71</th>\n",
       "      <th>72</th>\n",
       "      <th>73</th>\n",
       "      <th>74</th>\n",
       "      <th>75</th>\n",
       "      <th>76</th>\n",
       "      <th>77</th>\n",
       "      <th>78</th>\n",
       "      <th>79</th>\n",
       "      <th>80</th>\n",
       "      <th>81</th>\n",
       "      <th>82</th>\n",
       "      <th>83</th>\n",
       "      <th>84</th>\n",
       "      <th>85</th>\n",
       "      <th>86</th>\n",
       "      <th>87</th>\n",
       "      <th>88</th>\n",
       "      <th>89</th>\n",
       "      <th>90</th>\n",
       "      <th>91</th>\n",
       "      <th>92</th>\n",
       "      <th>93</th>\n",
       "      <th>94</th>\n",
       "      <th>95</th>\n",
       "      <th>96</th>\n",
       "      <th>97</th>\n",
       "      <th>98</th>\n",
       "      <th>99</th>\n",
       "    </tr>\n",
       "  </thead>\n",
       "  <tbody>\n",
       "    <tr>\n",
       "      <th>0</th>\n",
       "      <td>0</td>\n",
       "      <td>0.148640</td>\n",
       "      <td>-0.187110</td>\n",
       "      <td>-0.109395</td>\n",
       "      <td>0.111767</td>\n",
       "      <td>-0.024913</td>\n",
       "      <td>-0.117825</td>\n",
       "      <td>-0.072237</td>\n",
       "      <td>0.109746</td>\n",
       "      <td>-0.088250</td>\n",
       "      <td>0.210684</td>\n",
       "      <td>0.150548</td>\n",
       "      <td>0.073093</td>\n",
       "      <td>0.123050</td>\n",
       "      <td>0.013435</td>\n",
       "      <td>0.030419</td>\n",
       "      <td>-0.054971</td>\n",
       "      <td>-0.024773</td>\n",
       "      <td>0.027176</td>\n",
       "      <td>-0.031192</td>\n",
       "      <td>0.244318</td>\n",
       "      <td>-0.023978</td>\n",
       "      <td>0.063524</td>\n",
       "      <td>-0.017616</td>\n",
       "      <td>0.015206</td>\n",
       "      <td>0.021023</td>\n",
       "      <td>-0.166403</td>\n",
       "      <td>-0.054085</td>\n",
       "      <td>-0.107196</td>\n",
       "      <td>0.001245</td>\n",
       "      <td>0.007582</td>\n",
       "      <td>0.289484</td>\n",
       "      <td>0.270203</td>\n",
       "      <td>0.006445</td>\n",
       "      <td>-0.020518</td>\n",
       "      <td>-0.012005</td>\n",
       "      <td>-0.051826</td>\n",
       "      <td>-0.020969</td>\n",
       "      <td>0.011466</td>\n",
       "      <td>-0.056162</td>\n",
       "      <td>...</td>\n",
       "      <td>0.028428</td>\n",
       "      <td>-0.008585</td>\n",
       "      <td>-0.005356</td>\n",
       "      <td>0.004676</td>\n",
       "      <td>-0.080010</td>\n",
       "      <td>-0.009942</td>\n",
       "      <td>0.031553</td>\n",
       "      <td>-0.004652</td>\n",
       "      <td>0.253691</td>\n",
       "      <td>-0.204913</td>\n",
       "      <td>-0.136118</td>\n",
       "      <td>-0.030316</td>\n",
       "      <td>-0.096400</td>\n",
       "      <td>0.225578</td>\n",
       "      <td>-0.015016</td>\n",
       "      <td>0.187137</td>\n",
       "      <td>-0.033505</td>\n",
       "      <td>0.105795</td>\n",
       "      <td>0.081647</td>\n",
       "      <td>0.109687</td>\n",
       "      <td>-0.209020</td>\n",
       "      <td>0.059035</td>\n",
       "      <td>-0.163512</td>\n",
       "      <td>0.148144</td>\n",
       "      <td>0.081538</td>\n",
       "      <td>0.067741</td>\n",
       "      <td>-0.062299</td>\n",
       "      <td>0.085511</td>\n",
       "      <td>-0.025227</td>\n",
       "      <td>-0.000347</td>\n",
       "      <td>-0.189510</td>\n",
       "      <td>0.159313</td>\n",
       "      <td>-0.049753</td>\n",
       "      <td>-0.087644</td>\n",
       "      <td>0.000696</td>\n",
       "      <td>-0.175261</td>\n",
       "      <td>0.022859</td>\n",
       "      <td>0.021394</td>\n",
       "      <td>-0.021918</td>\n",
       "      <td>0.091434</td>\n",
       "    </tr>\n",
       "    <tr>\n",
       "      <th>1</th>\n",
       "      <td>1</td>\n",
       "      <td>0.207001</td>\n",
       "      <td>-0.018979</td>\n",
       "      <td>-0.094483</td>\n",
       "      <td>0.013424</td>\n",
       "      <td>-0.106083</td>\n",
       "      <td>0.252485</td>\n",
       "      <td>0.092830</td>\n",
       "      <td>0.002718</td>\n",
       "      <td>0.224389</td>\n",
       "      <td>0.061539</td>\n",
       "      <td>-0.011964</td>\n",
       "      <td>-0.124062</td>\n",
       "      <td>0.363754</td>\n",
       "      <td>-0.186012</td>\n",
       "      <td>0.005853</td>\n",
       "      <td>0.154634</td>\n",
       "      <td>-0.007437</td>\n",
       "      <td>-0.056847</td>\n",
       "      <td>-0.153121</td>\n",
       "      <td>0.155806</td>\n",
       "      <td>0.005505</td>\n",
       "      <td>-0.009769</td>\n",
       "      <td>0.129684</td>\n",
       "      <td>-0.140923</td>\n",
       "      <td>0.107991</td>\n",
       "      <td>-0.089491</td>\n",
       "      <td>-0.159392</td>\n",
       "      <td>-0.118141</td>\n",
       "      <td>-0.028254</td>\n",
       "      <td>0.036730</td>\n",
       "      <td>-0.002560</td>\n",
       "      <td>0.157207</td>\n",
       "      <td>0.197316</td>\n",
       "      <td>0.006478</td>\n",
       "      <td>0.102904</td>\n",
       "      <td>-0.030648</td>\n",
       "      <td>0.069637</td>\n",
       "      <td>-0.046797</td>\n",
       "      <td>0.140729</td>\n",
       "      <td>...</td>\n",
       "      <td>0.062679</td>\n",
       "      <td>0.014824</td>\n",
       "      <td>-0.128387</td>\n",
       "      <td>-0.134759</td>\n",
       "      <td>0.062570</td>\n",
       "      <td>-0.029479</td>\n",
       "      <td>0.179281</td>\n",
       "      <td>0.067871</td>\n",
       "      <td>-0.068197</td>\n",
       "      <td>-0.114838</td>\n",
       "      <td>0.064042</td>\n",
       "      <td>-0.100662</td>\n",
       "      <td>0.077444</td>\n",
       "      <td>0.063021</td>\n",
       "      <td>-0.264820</td>\n",
       "      <td>0.064246</td>\n",
       "      <td>0.116419</td>\n",
       "      <td>0.249359</td>\n",
       "      <td>-0.052354</td>\n",
       "      <td>0.072864</td>\n",
       "      <td>-0.106953</td>\n",
       "      <td>0.066344</td>\n",
       "      <td>-0.123868</td>\n",
       "      <td>0.062012</td>\n",
       "      <td>-0.137671</td>\n",
       "      <td>0.238824</td>\n",
       "      <td>0.214205</td>\n",
       "      <td>-0.024426</td>\n",
       "      <td>0.005841</td>\n",
       "      <td>-0.018725</td>\n",
       "      <td>-0.038627</td>\n",
       "      <td>-0.046464</td>\n",
       "      <td>0.135634</td>\n",
       "      <td>0.019332</td>\n",
       "      <td>-0.020542</td>\n",
       "      <td>0.110290</td>\n",
       "      <td>0.060942</td>\n",
       "      <td>-0.034289</td>\n",
       "      <td>-0.145765</td>\n",
       "      <td>-0.025004</td>\n",
       "    </tr>\n",
       "    <tr>\n",
       "      <th>2</th>\n",
       "      <td>2</td>\n",
       "      <td>0.093962</td>\n",
       "      <td>-0.262451</td>\n",
       "      <td>-0.033010</td>\n",
       "      <td>0.108551</td>\n",
       "      <td>0.008679</td>\n",
       "      <td>-0.077413</td>\n",
       "      <td>0.051345</td>\n",
       "      <td>0.082396</td>\n",
       "      <td>-0.020187</td>\n",
       "      <td>0.186536</td>\n",
       "      <td>0.089231</td>\n",
       "      <td>0.135319</td>\n",
       "      <td>0.090328</td>\n",
       "      <td>0.024973</td>\n",
       "      <td>-0.015908</td>\n",
       "      <td>-0.023561</td>\n",
       "      <td>-0.014670</td>\n",
       "      <td>0.080317</td>\n",
       "      <td>-0.047213</td>\n",
       "      <td>0.214932</td>\n",
       "      <td>-0.047513</td>\n",
       "      <td>-0.026536</td>\n",
       "      <td>-0.035187</td>\n",
       "      <td>-0.097793</td>\n",
       "      <td>0.019769</td>\n",
       "      <td>-0.127663</td>\n",
       "      <td>-0.161302</td>\n",
       "      <td>-0.109478</td>\n",
       "      <td>-0.059508</td>\n",
       "      <td>0.010361</td>\n",
       "      <td>0.360806</td>\n",
       "      <td>0.188856</td>\n",
       "      <td>-0.036842</td>\n",
       "      <td>-0.074423</td>\n",
       "      <td>-0.114003</td>\n",
       "      <td>-0.101569</td>\n",
       "      <td>0.045303</td>\n",
       "      <td>-0.094968</td>\n",
       "      <td>-0.057626</td>\n",
       "      <td>...</td>\n",
       "      <td>0.090830</td>\n",
       "      <td>0.063318</td>\n",
       "      <td>0.091495</td>\n",
       "      <td>-0.040649</td>\n",
       "      <td>-0.023695</td>\n",
       "      <td>-0.059613</td>\n",
       "      <td>-0.054952</td>\n",
       "      <td>0.023410</td>\n",
       "      <td>0.231272</td>\n",
       "      <td>-0.190606</td>\n",
       "      <td>-0.137444</td>\n",
       "      <td>0.004251</td>\n",
       "      <td>-0.003580</td>\n",
       "      <td>0.260090</td>\n",
       "      <td>-0.048785</td>\n",
       "      <td>0.165900</td>\n",
       "      <td>-0.032723</td>\n",
       "      <td>0.044123</td>\n",
       "      <td>0.105217</td>\n",
       "      <td>0.039117</td>\n",
       "      <td>-0.123564</td>\n",
       "      <td>-0.058834</td>\n",
       "      <td>-0.228224</td>\n",
       "      <td>0.168047</td>\n",
       "      <td>0.050522</td>\n",
       "      <td>0.122184</td>\n",
       "      <td>0.025836</td>\n",
       "      <td>0.087772</td>\n",
       "      <td>-0.116110</td>\n",
       "      <td>-0.014269</td>\n",
       "      <td>-0.104434</td>\n",
       "      <td>0.063065</td>\n",
       "      <td>-0.035935</td>\n",
       "      <td>-0.095608</td>\n",
       "      <td>-0.009888</td>\n",
       "      <td>-0.260271</td>\n",
       "      <td>0.116320</td>\n",
       "      <td>-0.085451</td>\n",
       "      <td>-0.024174</td>\n",
       "      <td>0.168612</td>\n",
       "    </tr>\n",
       "    <tr>\n",
       "      <th>3</th>\n",
       "      <td>3</td>\n",
       "      <td>0.212280</td>\n",
       "      <td>-0.047187</td>\n",
       "      <td>-0.116486</td>\n",
       "      <td>-0.004627</td>\n",
       "      <td>0.025335</td>\n",
       "      <td>0.020590</td>\n",
       "      <td>-0.123587</td>\n",
       "      <td>0.059001</td>\n",
       "      <td>-0.034748</td>\n",
       "      <td>0.131113</td>\n",
       "      <td>0.042459</td>\n",
       "      <td>0.030327</td>\n",
       "      <td>0.337262</td>\n",
       "      <td>0.129351</td>\n",
       "      <td>0.088097</td>\n",
       "      <td>0.101446</td>\n",
       "      <td>-0.071444</td>\n",
       "      <td>-0.023532</td>\n",
       "      <td>0.071519</td>\n",
       "      <td>0.065602</td>\n",
       "      <td>0.054506</td>\n",
       "      <td>-0.076591</td>\n",
       "      <td>0.160769</td>\n",
       "      <td>-0.068860</td>\n",
       "      <td>0.166010</td>\n",
       "      <td>-0.108786</td>\n",
       "      <td>-0.107945</td>\n",
       "      <td>0.052027</td>\n",
       "      <td>0.183210</td>\n",
       "      <td>0.167495</td>\n",
       "      <td>0.200569</td>\n",
       "      <td>0.125261</td>\n",
       "      <td>0.073310</td>\n",
       "      <td>0.078211</td>\n",
       "      <td>-0.220083</td>\n",
       "      <td>0.012016</td>\n",
       "      <td>0.102766</td>\n",
       "      <td>-0.004946</td>\n",
       "      <td>0.043808</td>\n",
       "      <td>...</td>\n",
       "      <td>0.048102</td>\n",
       "      <td>-0.031842</td>\n",
       "      <td>-0.105416</td>\n",
       "      <td>-0.035706</td>\n",
       "      <td>-0.040562</td>\n",
       "      <td>-0.008207</td>\n",
       "      <td>0.046938</td>\n",
       "      <td>0.050816</td>\n",
       "      <td>0.244273</td>\n",
       "      <td>-0.237922</td>\n",
       "      <td>0.031704</td>\n",
       "      <td>0.130088</td>\n",
       "      <td>0.030010</td>\n",
       "      <td>0.212676</td>\n",
       "      <td>-0.172311</td>\n",
       "      <td>-0.004937</td>\n",
       "      <td>-0.043786</td>\n",
       "      <td>0.139731</td>\n",
       "      <td>0.028731</td>\n",
       "      <td>0.124351</td>\n",
       "      <td>-0.156812</td>\n",
       "      <td>0.045860</td>\n",
       "      <td>-0.050537</td>\n",
       "      <td>0.176160</td>\n",
       "      <td>0.052502</td>\n",
       "      <td>0.014348</td>\n",
       "      <td>-0.068819</td>\n",
       "      <td>0.032854</td>\n",
       "      <td>-0.081729</td>\n",
       "      <td>-0.168563</td>\n",
       "      <td>-0.131347</td>\n",
       "      <td>0.118707</td>\n",
       "      <td>0.089684</td>\n",
       "      <td>-0.110882</td>\n",
       "      <td>0.068188</td>\n",
       "      <td>0.021066</td>\n",
       "      <td>-0.083530</td>\n",
       "      <td>0.100259</td>\n",
       "      <td>-0.105780</td>\n",
       "      <td>-0.012349</td>\n",
       "    </tr>\n",
       "    <tr>\n",
       "      <th>4</th>\n",
       "      <td>4</td>\n",
       "      <td>0.053653</td>\n",
       "      <td>0.122337</td>\n",
       "      <td>-0.135267</td>\n",
       "      <td>-0.017862</td>\n",
       "      <td>-0.012216</td>\n",
       "      <td>0.064982</td>\n",
       "      <td>-0.053867</td>\n",
       "      <td>0.120750</td>\n",
       "      <td>-0.060154</td>\n",
       "      <td>0.204295</td>\n",
       "      <td>-0.206539</td>\n",
       "      <td>-0.015263</td>\n",
       "      <td>0.217170</td>\n",
       "      <td>-0.148366</td>\n",
       "      <td>0.180569</td>\n",
       "      <td>0.013032</td>\n",
       "      <td>0.105246</td>\n",
       "      <td>-0.148139</td>\n",
       "      <td>-0.116360</td>\n",
       "      <td>0.170930</td>\n",
       "      <td>-0.001771</td>\n",
       "      <td>0.112156</td>\n",
       "      <td>0.231537</td>\n",
       "      <td>-0.041038</td>\n",
       "      <td>0.044176</td>\n",
       "      <td>0.008420</td>\n",
       "      <td>-0.040560</td>\n",
       "      <td>-0.250178</td>\n",
       "      <td>0.083283</td>\n",
       "      <td>0.061619</td>\n",
       "      <td>0.048926</td>\n",
       "      <td>0.202578</td>\n",
       "      <td>0.204366</td>\n",
       "      <td>0.039983</td>\n",
       "      <td>0.087105</td>\n",
       "      <td>-0.089234</td>\n",
       "      <td>-0.004173</td>\n",
       "      <td>-0.022616</td>\n",
       "      <td>0.069619</td>\n",
       "      <td>...</td>\n",
       "      <td>0.195901</td>\n",
       "      <td>-0.030977</td>\n",
       "      <td>-0.216164</td>\n",
       "      <td>0.030110</td>\n",
       "      <td>0.023235</td>\n",
       "      <td>0.018448</td>\n",
       "      <td>0.278946</td>\n",
       "      <td>0.187778</td>\n",
       "      <td>0.090445</td>\n",
       "      <td>-0.226228</td>\n",
       "      <td>-0.057770</td>\n",
       "      <td>0.058457</td>\n",
       "      <td>0.085250</td>\n",
       "      <td>0.099034</td>\n",
       "      <td>-0.171122</td>\n",
       "      <td>0.055066</td>\n",
       "      <td>0.107468</td>\n",
       "      <td>0.286436</td>\n",
       "      <td>-0.016551</td>\n",
       "      <td>0.182212</td>\n",
       "      <td>-0.139626</td>\n",
       "      <td>0.105842</td>\n",
       "      <td>-0.154053</td>\n",
       "      <td>0.130488</td>\n",
       "      <td>0.012465</td>\n",
       "      <td>0.116014</td>\n",
       "      <td>0.034504</td>\n",
       "      <td>0.004923</td>\n",
       "      <td>-0.015391</td>\n",
       "      <td>-0.044740</td>\n",
       "      <td>-0.159809</td>\n",
       "      <td>0.032044</td>\n",
       "      <td>0.096484</td>\n",
       "      <td>-0.012787</td>\n",
       "      <td>0.056482</td>\n",
       "      <td>0.172031</td>\n",
       "      <td>-0.167097</td>\n",
       "      <td>0.176730</td>\n",
       "      <td>-0.053606</td>\n",
       "      <td>-0.138751</td>\n",
       "    </tr>\n",
       "  </tbody>\n",
       "</table>\n",
       "<p>5 rows × 101 columns</p>\n",
       "</div>"
      ],
      "text/plain": [
       "   Unnamed: 0         0         1  ...        97        98        99\n",
       "0           0  0.148640 -0.187110  ...  0.021394 -0.021918  0.091434\n",
       "1           1  0.207001 -0.018979  ... -0.034289 -0.145765 -0.025004\n",
       "2           2  0.093962 -0.262451  ... -0.085451 -0.024174  0.168612\n",
       "3           3  0.212280 -0.047187  ...  0.100259 -0.105780 -0.012349\n",
       "4           4  0.053653  0.122337  ...  0.176730 -0.053606 -0.138751\n",
       "\n",
       "[5 rows x 101 columns]"
      ]
     },
     "execution_count": 39,
     "metadata": {
      "tags": []
     },
     "output_type": "execute_result"
    }
   ],
   "source": [
    "from google.colab import files\n",
    "\n",
    "feature_matrix = files.upload()\n",
    "feature_matrix = pd.read_csv('feature_matrix_karate_club.csv')\n",
    "feature_matrix.head()"
   ]
  },
  {
   "cell_type": "code",
   "execution_count": 40,
   "id": "light-sixth",
   "metadata": {
    "id": "altered-manchester"
   },
   "outputs": [],
   "source": [
    "# turning dataframe into numpy array\n",
    "feature_matrix = np.array(feature_matrix) \n",
    "# removing the first column of the feature matrix\n",
    "feature_matrix = np.delete(feature_matrix, obj=0, axis=1) "
   ]
  },
  {
   "cell_type": "markdown",
   "id": "magnetic-integral",
   "metadata": {
    "id": "dutch-spectrum"
   },
   "source": [
    "We start by randomly assigning the \"labels\" such that a given group of data points belong to one cluster, and computing the centroids of these clusters. This is done in the first function \"kmeans_centroids\".\n",
    "A problem I faced here was that I was getting errors when not all labels were used. This is why I made sure each label was used at least once by creating an array with all numbers from 0 to k and then randomly assigning the rest of the labels."
   ]
  },
  {
   "cell_type": "code",
   "execution_count": 41,
   "id": "dense-twenty",
   "metadata": {
    "id": "former-mayor"
   },
   "outputs": [],
   "source": [
    "def kmeans_centroids(X, k, i):\n",
    "    n_samples, n_features = X.shape\n",
    " \n",
    "    # labels: assign every sample to a cluster at random\n",
    "    np.random.seed(i)\n",
    "    # making sure each label is used\n",
    "    labels = np.concatenate((np.array([i for i in range(k)]), np.random.randint(low=0, high=k, size=n_samples-k)))         \n",
    "    np.random.shuffle(labels)\n",
    "    X_labels = np.append(X, labels.reshape(-1,1), axis=1)\n",
    "\n",
    "    # computing the centroids of each of the k clusters\n",
    "    centroids = np.zeros((k, n_features))\n",
    "    for i in range(k):\n",
    "        centroids[i] = np.mean([x for x in X_labels if x[-1]==i], axis=0)[0:n_features]  \n",
    "    \n",
    "    return centroids, labels"
   ]
  },
  {
   "cell_type": "markdown",
   "id": "extraordinary-calculation",
   "metadata": {
    "id": "union-aaron"
   },
   "source": [
    "Secondly, in the kmeans algorithm, I now had to deal with the problem of empty clusters. If any of the clusters has no data points associated with it, I replaced it with a random data point and carried on with the algorithm."
   ]
  },
  {
   "cell_type": "code",
   "execution_count": 42,
   "id": "skilled-wright",
   "metadata": {
    "id": "passing-segment"
   },
   "outputs": [],
   "source": [
    "def kmeans(X, centroids, labels, k, max_iter=20):\n",
    "    new_labels = np.zeros(len(X))\n",
    "    difference = 0\n",
    "\n",
    "    # k-means algorithm\n",
    "    for i in range(max_iter):\n",
    "        # distances: between data points and centroids\n",
    "        distances = np.array([np.linalg.norm(X - c, axis=1) for c in centroids])\n",
    "        # new_labels: computed by finding centroid with minimal distance\n",
    "        new_labels = np.argmin(distances, axis=0)\n",
    "\n",
    "        if (labels==new_labels).all():\n",
    "            # labels unchanged\n",
    "            labels = new_labels\n",
    "            break\n",
    "        else:\n",
    "            # labels changed\n",
    "            # difference: percentage of changed labels\n",
    "            difference = np.mean(labels!=new_labels)\n",
    "            labels = new_labels\n",
    "            for c in range(k):\n",
    "                if len(X[labels==c])>0:\n",
    "                    # update centroids by taking the mean over associated data points\n",
    "                    centroids[c] = np.mean(X[labels==c], axis=0) \n",
    "                else: \n",
    "                    # dealing with empty cluster\n",
    "                    centroids[c] = X[np.random.randint(low=0, high=len(X), size=1)]\n",
    "    return centroids, labels     "
   ]
  },
  {
   "cell_type": "markdown",
   "id": "smaller-cricket",
   "metadata": {
    "id": "interracial-finger"
   },
   "source": [
    "The within-cluster distance that we seek to plot against $k$ is given as follows:\n",
    "$$\n",
    "W = \\sum_{l=1}^k\\sum_{i \\in c_l} ||\\textbf{x}^{(i)} - \\textbf{m}_l||^2\n",
    "$$\n",
    "Where $k$ is the number of clusters, $\\textbf{m}_l$ is the centroid for cluster $l$.\n",
    "\n",
    "The following function calculate this value."
   ]
  },
  {
   "cell_type": "code",
   "execution_count": 44,
   "id": "fluid-haiti",
   "metadata": {
    "id": "trained-customs"
   },
   "outputs": [],
   "source": [
    "def within_distance(centroids, labels, X, k):\n",
    "    W = 0\n",
    "    for i in range(k):\n",
    "        index = np.squeeze(np.argwhere(labels==i)) # finding indeces of points in a cluster\n",
    "        W += (np.linalg.norm(X[index,:]-centroids[i,:]))**2\n",
    "    return W"
   ]
  },
  {
   "cell_type": "markdown",
   "id": "final-keeping",
   "metadata": {
    "id": "imported-charleston"
   },
   "source": [
    "This following funtion runs k-means for 100 random initialisations for a given value of $k$."
   ]
  },
  {
   "cell_type": "code",
   "execution_count": 45,
   "id": "funky-breach",
   "metadata": {
    "id": "finished-uruguay"
   },
   "outputs": [],
   "source": [
    "def iterations(k, X):\n",
    "    wc_distance_k = []\n",
    "    for i in range(101):\n",
    "        centroids, labels = kmeans_centroids(X, k, i)\n",
    "        centroids, labels = kmeans(X, centroids, labels, k, max_iter=20)\n",
    "        w = within_distance(centroids, labels, X, k)\n",
    "        wc_distance_k = np.append(wc_distance_k, w)\n",
    "    return np.mean(wc_distance_k)"
   ]
  },
  {
   "cell_type": "markdown",
   "id": "union-billy",
   "metadata": {
    "id": "framed-olympus"
   },
   "source": [
    "And lastly, we loop over all value of k in the range $[2, 10]$ and plot the average within-cluster distance as a function of $k$."
   ]
  },
  {
   "cell_type": "code",
   "execution_count": 46,
   "id": "trained-situation",
   "metadata": {
    "id": "afraid-audit"
   },
   "outputs": [],
   "source": [
    "X = feature_matrix\n",
    "average_dists = []\n",
    "for k in range(2,11):\n",
    "    a = iterations(k, X)\n",
    "    average_dists = np.append(average_dists, a)"
   ]
  },
  {
   "cell_type": "code",
   "execution_count": 47,
   "id": "ultimate-frank",
   "metadata": {
    "colab": {
     "base_uri": "https://localhost:8080/",
     "height": 295
    },
    "id": "worth-passing",
    "outputId": "9f6d6b48-a9a7-4b58-87bc-53704d0c2b4b"
   },
   "outputs": [
    {
     "data": {
      "image/png": "[encoded data removed]",
      "text/plain": [
       "<Figure size 432x288 with 1 Axes>"
      ]
     },
     "metadata": {
      "needs_background": "light",
      "tags": []
     },
     "output_type": "display_data"
    }
   ],
   "source": [
    "k = range(2,11)\n",
    "plt.plot(k, average_dists, '-o')\n",
    "plt.title(\"Average within-distance as a function of k\")\n",
    "plt.xlabel(\"k\")\n",
    "plt.ylabel(\"W(C)\")\n",
    "plt.show()"
   ]
  },
  {
   "cell_type": "markdown",
   "id": "aggregate-municipality",
   "metadata": {
    "id": "continental-stand"
   },
   "source": [
    "From the plot above, we can see that as the number of clusters $k$, increases, the within-distance decreases. This goes with my intuition that as you increase the number of clusters, the clusters become smaller hence the distance between the centroid of that cluster and the data points in that cluster decreases. The \"elbow\" shape curve can be used to determine the optimal number of clusters $k$. I think on the graph above it is actually quite difficult to identify the optimal point as there is no sharp \"elbow\" shape. However, we can see the drop in the within-cluster distance starts to slow down after $k=4$. Therefore, $4$ is the optimal number of clusters according to this plot.\n",
    "\n",
    "There are several other measures that can help us identify the optimal number of clusters. This includes the CH-score that we will explore in the next task."
   ]
  },
  {
   "cell_type": "markdown",
   "id": "acute-crisis",
   "metadata": {
    "id": "studied-colombia"
   },
   "source": [
    "### 2.1.2 Calinski-Harabasz (CH) score to find optimal clustering\n",
    "\n",
    "The CH score is used to measure the validity of clustering when there is no ground truth available. It is defined as ratio between the within-cluster dispersion and the between-cluster dispersion. In an equation, we get:\n",
    "$$\n",
    "C_k = \\frac{B(k)}{W(k)}\\frac{N-k}{k-1}\n",
    "$$\n",
    "where $B(k)=\\sum_{i=1}^kn_i||m_i-m||^2$ and $W(k)$ is the within-cluster distance as defined in the task above. $k$ is the number of clusters, $N$ is the number of observations, $n_i$ is the number of observations under cluster $i$, $m_i$ is the centroid of cluster $i$ and $m$ is the mean of the sample data. \n",
    "The best clustering will have a small within-cluster distance and large between-cluster distance, therefore, the optimal number of clusters will come from the largest CH score. (2)"
   ]
  },
  {
   "cell_type": "markdown",
   "id": "wrong-invasion",
   "metadata": {
    "id": "vocal-union"
   },
   "source": [
    "I first define a function that calculates the between-cluster distance $B(k)$."
   ]
  },
  {
   "cell_type": "code",
   "execution_count": 51,
   "id": "italic-poster",
   "metadata": {
    "id": "owned-queue"
   },
   "outputs": [],
   "source": [
    "def between_distance(X, k, centroids, labels):    \n",
    "    bc_distance = 0\n",
    "    for i in range(k):\n",
    "        len_cluster_k = sum(labels == i)\n",
    "        mean = np.mean(X, axis=0)\n",
    "        bc_distance += len_cluster_k*np.linalg.norm(centroids[i]-mean)**2\n",
    "    return bc_distance     "
   ]
  },
  {
   "cell_type": "code",
   "execution_count": 48,
   "id": "streaming-silicon",
   "metadata": {
    "id": "white-harvard"
   },
   "outputs": [],
   "source": [
    "# function that computes CH score\n",
    "def ch_score(X, k, centroids, labels):\n",
    "    n_samples, _ = X.shape\n",
    "    bc_distance = between_distance(X, k, centroids, labels)\n",
    "    wc_distance = within_distance(centroids, labels, X, k)\n",
    "    ch_score = (bc_distance * (n_samples - k)) / ((wc_distance * (k - 1.)))\n",
    "    return ch_score"
   ]
  },
  {
   "cell_type": "markdown",
   "id": "handed-memorabilia",
   "metadata": {
    "id": "overall-bones"
   },
   "source": [
    "Similarly to the task above, I will do 100 random initialisations for all values of k in the interval $[2, 10]$."
   ]
  },
  {
   "cell_type": "code",
   "execution_count": 49,
   "id": "metropolitan-cause",
   "metadata": {
    "id": "similar-lexington"
   },
   "outputs": [],
   "source": [
    "# measuring CH score after 100 random initialisations for a chosen k\n",
    "def CH_iterations(k, X):\n",
    "    CH_score_k = []\n",
    "    for i in range(101):\n",
    "        centroids, labels = kmeans_centroids(X, k, i)\n",
    "        centroids, labels = kmeans(X, centroids, labels, k, max_iter=20)\n",
    "        score = ch_score(X, k, centroids, labels)\n",
    "        CH_score_k = np.append(CH_score_k, score)\n",
    "    return np.mean(CH_score_k)"
   ]
  },
  {
   "cell_type": "code",
   "execution_count": 52,
   "id": "invisible-natural",
   "metadata": {
    "id": "impressed-bangkok"
   },
   "outputs": [],
   "source": [
    "# getting the CH score for each value of k over 100 iteration\n",
    "X = feature_matrix\n",
    "average_CH = []\n",
    "for k in range(2,11):\n",
    "    b = CH_iterations(k, X)\n",
    "    average_CH  = np.append(average_CH , b)"
   ]
  },
  {
   "cell_type": "markdown",
   "id": "welcome-specific",
   "metadata": {
    "id": "standard-henry"
   },
   "source": [
    "We now plot the CH score as a function of increasing k and find the optimal clustering according to the CH score."
   ]
  },
  {
   "cell_type": "code",
   "execution_count": 53,
   "id": "chicken-catalyst",
   "metadata": {
    "colab": {
     "base_uri": "https://localhost:8080/",
     "height": 295
    },
    "id": "appropriate-pharmacology",
    "outputId": "e053295d-7877-4a0b-dd0d-608f89e6138c"
   },
   "outputs": [
    {
     "data": {
      "image/png": "[encoded data removed]",
      "text/plain": [
       "<Figure size 432x288 with 1 Axes>"
      ]
     },
     "metadata": {
      "needs_background": "light",
      "tags": []
     },
     "output_type": "display_data"
    }
   ],
   "source": [
    "# plotting average CH-score over 100 iterations for different values of k\n",
    "plt.plot(range(2,11), average_CH)\n",
    "plt.title(\"Average CH score as a function of k\")\n",
    "plt.xlabel(\"k\")\n",
    "plt.ylabel(\"CH score\")\n",
    "plt.show()"
   ]
  },
  {
   "cell_type": "markdown",
   "id": "frozen-track",
   "metadata": {
    "id": "detailed-seeker"
   },
   "source": [
    "From the graph above, we can clearly see that at $k=2$, the CH-score is the greatest and from literature, we know the higher the CH-score, the better the clustering is. Hence, the optimal number of clusters according to the CH-score is $2$.\n",
    "\n",
    "However, some other sources pointed out that if the curve is horizontal/ascending/descending like we have, there is no reason to pick one solution over the others. But if there is a peak or an abrupt elbow, we would choose this value of $k$. With this reasoning, it would perhaps be more sensible to pick $k=3$ as the optimal $k$. (3) Therefore, the optimal $k$ according to the CH-score could be either $2$ or $3$. Because of this uncertainty, we could use other clustering measures such as the Sihouette Index to reinforce our justification."
   ]
  },
  {
   "cell_type": "markdown",
   "id": "posted-acceptance",
   "metadata": {
    "id": "dental-district"
   },
   "source": [
    "### 2.1.3 Robustness of the clusterings\n",
    "In this task, we use the different clusterings obtained from the 100 random initialisations of the k-means algorithm\n",
    "in task 2.1.1 to evaluate the robustness of the clusterings as a function of $k$. We explore this with different measures that capture the consistency and variability of the clusterings obtained as a function of $k$.\n",
    "\n",
    "Variability comes in 2 different kinds:\n",
    "1. Variability in the losses from the 100 initialisations. \n",
    "2. Variabilty in the actual clusters themselves.\n",
    "\n",
    "1 is essentially the variability in the cost function and for this, we take the variance of the losses (within-cluster distace)."
   ]
  },
  {
   "cell_type": "code",
   "execution_count": 55,
   "id": "democratic-joseph",
   "metadata": {
    "id": "ewjrbPkf0fkn"
   },
   "outputs": [],
   "source": [
    "# getting the within cluster distances from the 100 initialisations\n",
    "def iterations_2(k, X):\n",
    "    wc_distance_k = []\n",
    "    for i in range(101):\n",
    "        centroids, labels = kmeans_centroids(X, k, i)\n",
    "        centroids, labels = kmeans(X, centroids, labels, k, max_iter=20)\n",
    "        w = within_distance(centroids, labels, X, k)\n",
    "        wc_distance_k = np.append(wc_distance_k, w)\n",
    "    return wc_distance_k"
   ]
  },
  {
   "cell_type": "code",
   "execution_count": 56,
   "id": "dutch-nancy",
   "metadata": {
    "id": "w706YNjHzrYF"
   },
   "outputs": [],
   "source": [
    "# obtain the variance of the losses\n",
    "var_losses = []\n",
    "for k in range(2, 11):\n",
    "  wc_distance_k = iterations_2(k, feature_matrix)\n",
    "  var_loss = np.var(wc_distance_k)\n",
    "  var_losses = np.append(var_losses, var_loss)"
   ]
  },
  {
   "cell_type": "code",
   "execution_count": 57,
   "id": "reasonable-simpson",
   "metadata": {
    "colab": {
     "base_uri": "https://localhost:8080/",
     "height": 295
    },
    "id": "19JUXQNC1omf",
    "outputId": "6620ccdd-baf3-4dc9-ec3a-359058f64945"
   },
   "outputs": [
    {
     "data": {
      "image/png": "[encoded data removed]",
      "text/plain": [
       "<Figure size 432x288 with 1 Axes>"
      ]
     },
     "metadata": {
      "needs_background": "light",
      "tags": []
     },
     "output_type": "display_data"
    }
   ],
   "source": [
    "# plotting variance of the losses\n",
    "plt.plot(range(2,11), var_losses)\n",
    "plt.ylabel(\"Variance of the losses\")\n",
    "plt.xlabel(\"k\")\n",
    "plt.title(\"Variance of the losses against k\")\n",
    "plt.show()"
   ]
  },
  {
   "cell_type": "markdown",
   "id": "confidential-fault",
   "metadata": {
    "id": "mW9iMB1s39Dd"
   },
   "source": [
    "For the second source of variabilty, essentially the variability of the solution. Since we are given the ground truth labels, we can use a metric to evaluate the labels, for examples the Adjusted Rand Index (ARI). The ARI uses true cluster assignments to measure the similarity between true and predicted labels. This will enable us to see how good our solution is. I do not go into much detail about the ARI here as we will later be exploring it in more depth. Essentially, the closer the ARI is to 1, better the clustering will be.\n",
    "\n",
    "In the ground truth labels, it appears there are 2 classes. I will be comparing k-means with $k=2$ and $k=3$ to these true labels to justify how variable the solutions are. I first import all the data and set up the function for ARI."
   ]
  },
  {
   "cell_type": "code",
   "execution_count": 75,
   "id": "confident-creator",
   "metadata": {
    "colab": {
     "base_uri": "https://localhost:8080/",
     "height": 72,
     "resources": {
      "http://localhost:8080/nbextensions/google.colab/files.js": {
       "data": "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",
       "headers": [
        [
         "content-type",
         "application/javascript"
        ]
       ],
       "ok": true,
       "status": 200,
       "status_text": ""
      }
     }
    },
    "id": "hptxf2-BIyrD",
    "outputId": "c0ec24c1-4b52-43ea-eacc-609ca7902c4c"
   },
   "outputs": [
    {
     "data": {
      "text/html": [
       "\n",
       "     <input type=\"file\" id=\"files-b294cea5-7cfb-4e3e-afcc-95e6dda2b62b\" name=\"files[]\" multiple disabled\n",
       "        style=\"border:none\" />\n",
       "     <output id=\"result-b294cea5-7cfb-4e3e-afcc-95e6dda2b62b\">\n",
       "      Upload widget is only available when the cell has been executed in the\n",
       "      current browser session. Please rerun this cell to enable.\n",
       "      </output>\n",
       "      <script src=\"/nbextensions/google.colab/files.js\"></script> "
      ],
      "text/plain": [
       "<IPython.core.display.HTML object>"
      ]
     },
     "metadata": {
      "tags": []
     },
     "output_type": "display_data"
    },
    {
     "name": "stdout",
     "output_type": "stream",
     "text": [
      "Saving ground_truth_karate_club.csv to ground_truth_karate_club (1).csv\n"
     ]
    }
   ],
   "source": [
    "# getting ground truth labels\n",
    "from google.colab import files\n",
    "\n",
    "ground_truth = files.upload()\n",
    "ground_truth = pd.read_csv('ground_truth_karate_club.csv')\n",
    "\n",
    "#turning dataframe into numpy array\n",
    "ground_truth = np.array(ground_truth) \n",
    "# removing the first column of the ground_truth data\n",
    "ground_truth = np.delete(ground_truth, obj=0, axis=1) \n",
    "\n",
    "# replace the labels with 0s with 1s\n",
    "ground_truth = np.where(ground_truth == \"Mr. Hi\", 0, ground_truth) \n",
    "ground_truth = np.where(ground_truth == \"Officer\", 1, ground_truth)\n",
    "\n",
    "ground_truth = np.array([i[0] for i in ground_truth])"
   ]
  },
  {
   "cell_type": "code",
   "execution_count": 76,
   "id": "cubic-input",
   "metadata": {
    "id": "Jp3uPvlfIy_N"
   },
   "outputs": [],
   "source": [
    "# create combinatorial function\n",
    "from math import factorial\n",
    "def choose(x, n=2):\n",
    "    if x > n:\n",
    "        top = factorial(x)\n",
    "        bottom = n*factorial(x-n)\n",
    "        return top/bottom\n",
    "    else: # ensuring that denominator is not 0\n",
    "        return 0."
   ]
  },
  {
   "cell_type": "code",
   "execution_count": 77,
   "id": "demographic-thailand",
   "metadata": {
    "id": "nR8cic03IzdU"
   },
   "outputs": [],
   "source": [
    "# function that computes the different components of the ARI\n",
    "def components(labels_true, labels_pred):\n",
    "    cont_table = pd.crosstab(labels_true, labels_pred)\n",
    "    rows, columns = cont_table.shape\n",
    "    row_sum = np.sum(cont_table, axis=1)\n",
    "    column_sum = np.sum(cont_table, axis=0)\n",
    "    a_i = 0\n",
    "    b_j = 0\n",
    "    n_ij = 0\n",
    "    for i in range(rows): \n",
    "        a_i += choose(row_sum[i] , n=2) # a_i is the row sum\n",
    "    for j in range(columns): \n",
    "        b_j += choose(column_sum[j] , n=2) # b_j is the column sum\n",
    "    for i in range(columns):\n",
    "        for j in range(rows): \n",
    "            n_ij += choose(cont_table[i][j] , n=2)\n",
    "    N = choose(len(labels_true), n=2) \n",
    "    e = a_i*b_j/N       \n",
    "    return a_i, b_j, n_ij, e"
   ]
  },
  {
   "cell_type": "code",
   "execution_count": 78,
   "id": "capable-model",
   "metadata": {
    "id": "q-2juetHJEH4"
   },
   "outputs": [],
   "source": [
    "# putting everything together to compute ARI\n",
    "def ARI(labels_true, labels_pred):\n",
    "    a_i, b_j, n_ij, e = components(labels_true, labels_pred)\n",
    "    ari = (n_ij - e) / ((a_i+b_j)/2 - e)\n",
    "    return ari"
   ]
  },
  {
   "cell_type": "markdown",
   "id": "extreme-feedback",
   "metadata": {
    "id": "s6EjRzQdJJjp"
   },
   "source": [
    "I try both with $k=2$ and $k=3$. Firstly, with $k=2$."
   ]
  },
  {
   "cell_type": "code",
   "execution_count": 79,
   "id": "signal-spirituality",
   "metadata": {
    "colab": {
     "base_uri": "https://localhost:8080/"
    },
    "id": "--z6Pas8JH1X",
    "outputId": "600d5bb8-e2ce-4a85-bf68-56b6f0b95e1c"
   },
   "outputs": [
    {
     "name": "stdout",
     "output_type": "stream",
     "text": [
      "The ARI for k-means and ground truth is  0.0012970168612192327\n"
     ]
    }
   ],
   "source": [
    "# getting the predicted labels from kmeans with the optimal number of clusters \n",
    "X = feature_matrix\n",
    "k = 2\n",
    "i = 8 # pick a random seed\n",
    "centroids, labels = kmeans_centroids(X, k, i)\n",
    "centroids, labels = kmeans(X, centroids, labels, k, max_iter=20)\n",
    "labels_pred_kmeans_2 = labels\n",
    "print(\"The ARI for k-means and ground truth is \", ARI(ground_truth, labels_pred_kmeans_2))"
   ]
  },
  {
   "cell_type": "markdown",
   "id": "accredited-vault",
   "metadata": {
    "id": "lBAexzqYJbuV"
   },
   "source": [
    "Repeat with $k=3$."
   ]
  },
  {
   "cell_type": "code",
   "execution_count": 80,
   "id": "fiscal-title",
   "metadata": {
    "colab": {
     "base_uri": "https://localhost:8080/"
    },
    "id": "5Mg9HyZYJmhJ",
    "outputId": "ac791e73-d757-4c74-a4d0-28da5b46fa10"
   },
   "outputs": [
    {
     "name": "stdout",
     "output_type": "stream",
     "text": [
      "The ARI for k-means and ground truth is  0.05899705014749266\n"
     ]
    }
   ],
   "source": [
    "# getting the predicted labels from kmeans with the optimal number of clusters \n",
    "X = feature_matrix\n",
    "k = 3\n",
    "i = 8 # pick a random seed\n",
    "centroids, labels = kmeans_centroids(X, k, i)\n",
    "centroids, labels = kmeans(X, centroids, labels, k, max_iter=20)\n",
    "labels_pred_kmeans_3 = labels\n",
    "print(\"The ARI for k-means and ground truth is \", ARI(ground_truth, labels_pred_kmeans_3))"
   ]
  },
  {
   "cell_type": "markdown",
   "id": "spectacular-blair",
   "metadata": {
    "id": "5Haxs7SCKdoy"
   },
   "source": [
    "From the ARI it appears that kmeans with $k=3$ performs better than kmeans with $k=2$."
   ]
  },
  {
   "cell_type": "markdown",
   "id": "amateur-lying",
   "metadata": {
    "id": "healthy-block"
   },
   "source": [
    "### 2.2 Dimensionality reduction of the feature matrix"
   ]
  },
  {
   "cell_type": "markdown",
   "id": "filled-yorkshire",
   "metadata": {
    "id": "scenic-paper"
   },
   "source": [
    "### 2.2.1 Principle Component Analysis\n",
    "\n",
    "In this task, we plot the $N=34$ samples of the dataset as points in the d-dimensional PCA space for dimensions: 1) $d=1$, 2) $d=2$, and 3) $d=3$\n",
    "\n",
    "Principal Component Analysis (PCA) is a dimensionality reduction technique that follows the 3 following steps:\n",
    "1. Compute the covariance matrix  $\\mathbf C = \\mathbf X^\\top \\mathbf X/(n-1)$\n",
    "2. Find eigenvalues and corresponding eigenvectors for the covariance matrix, $\\mathbf C = \\mathbf V \\mathbf L \\mathbf V^\\top,$\n",
    "3.  Sort by the largest eigenvalues and the corresponding eigenvectors.\n",
    "4.  Compute the projection onto the spaced spanned by the top $n$ eigenvectors."
   ]
  },
  {
   "cell_type": "code",
   "execution_count": null,
   "id": "underlying-pavilion",
   "metadata": {
    "id": "recovered-nirvana"
   },
   "outputs": [],
   "source": [
    "def normalize(X):\n",
    "    mu = np.mean(X, axis=0)\n",
    "    std = np.std(X, axis=0)\n",
    "    std_filled = std.copy()\n",
    "    std_filled[std==0] = 1.\n",
    "    Xbar = ((X-mu)/std_filled)\n",
    "    return Xbar"
   ]
  },
  {
   "cell_type": "code",
   "execution_count": null,
   "id": "incomplete-australian",
   "metadata": {
    "id": "demanding-static"
   },
   "outputs": [],
   "source": [
    "feature_matrix = normalize(feature_matrix)"
   ]
  },
  {
   "cell_type": "code",
   "execution_count": null,
   "id": "understood-season",
   "metadata": {
    "id": "tracked-teach"
   },
   "outputs": [],
   "source": [
    "from scipy.sparse import linalg\n",
    "\n",
    "def pca_function(X,k):\n",
    "\n",
    "  # create covariance matrix\n",
    "  C = 1.0/(len(X)-1) * np.dot(X.T, X)\n",
    "\n",
    "  # compute eigenvalues and eigenvectors using the eigsh scipy function\n",
    "  eigenvalues, eigenvectors = linalg.eigsh(C, k, which=\"LM\", return_eigenvectors=True) \n",
    "\n",
    "  # sorting the eigenvectors and eigenvalues from largest to smallest eigenvalue\n",
    "  sorted_index = np.argsort(eigenvalues)[::-1]\n",
    "  eigenvalues = eigenvalues[sorted_index]\n",
    "  eigenvectors = eigenvectors[:,sorted_index ]\n",
    "\n",
    "  # transform our data\n",
    "  X_pca = X.dot(eigenvectors)\n",
    "\n",
    "  return X_pca, eigenvectors, eigenvalues"
   ]
  },
  {
   "cell_type": "markdown",
   "id": "specialized-destruction",
   "metadata": {
    "id": "sweet-sport"
   },
   "source": [
    "**1)** We begin with the 1-dimensional principle component plot."
   ]
  },
  {
   "cell_type": "code",
   "execution_count": null,
   "id": "fitting-exposure",
   "metadata": {
    "id": "special-tutorial"
   },
   "outputs": [],
   "source": [
    "# choose our number of principle components\n",
    "k = 1\n",
    "\n",
    "# compute the projection, the eigenvector and eigenvalues from our function\n",
    "X_pca, eigenvectors, eigenvalues = pca_function(feature_matrix,k) "
   ]
  },
  {
   "cell_type": "code",
   "execution_count": null,
   "id": "emotional-albania",
   "metadata": {
    "colab": {
     "base_uri": "https://localhost:8080/",
     "height": 295
    },
    "id": "formed-excuse",
    "outputId": "af527a78-3e09-4371-c2b9-11058291f740"
   },
   "outputs": [
    {
     "data": {
      "image/png": "[encoded data removed]",
      "text/plain": [
       "<Figure size 432x288 with 1 Axes>"
      ]
     },
     "metadata": {
      "needs_background": "light",
      "tags": []
     },
     "output_type": "display_data"
    }
   ],
   "source": [
    "plt.scatter(X_pca[:,0],np.zeros(34))\n",
    "plt.title(\"The 1-Dimensional principle component scatter\")\n",
    "plt.xlabel(\"Component 1\")\n",
    "plt.show()"
   ]
  },
  {
   "cell_type": "markdown",
   "id": "executive-photographer",
   "metadata": {
    "id": "native-accountability"
   },
   "source": [
    "**2)** Now we set the number of dimensions to be 2."
   ]
  },
  {
   "cell_type": "code",
   "execution_count": null,
   "id": "middle-serbia",
   "metadata": {
    "id": "innocent-montana"
   },
   "outputs": [],
   "source": [
    "# choose our number of principle components\n",
    "k = 2\n",
    "\n",
    "# compute the projection, the eigenvector and eigenvalues from our function\n",
    "X_pca, eigenvectors, eigenvalues = pca_function(feature_matrix,k) "
   ]
  },
  {
   "cell_type": "code",
   "execution_count": null,
   "id": "psychological-marina",
   "metadata": {
    "colab": {
     "base_uri": "https://localhost:8080/",
     "height": 295
    },
    "id": "seeing-lemon",
    "outputId": "84974dc7-1fd7-4be2-d4a1-542422a0fce8"
   },
   "outputs": [
    {
     "data": {
      "image/png": "[encoded data removed]",
      "text/plain": [
       "<Figure size 432x288 with 1 Axes>"
      ]
     },
     "metadata": {
      "needs_background": "light",
      "tags": []
     },
     "output_type": "display_data"
    }
   ],
   "source": [
    "plt.scatter(X_pca[:,0],X_pca[:,1])\n",
    "plt.title(\"The 2-Dimensional principle component scatter\")\n",
    "plt.xlabel(\"Component 1\")\n",
    "plt.ylabel(\"Component 2\")\n",
    "plt.show()"
   ]
  },
  {
   "cell_type": "markdown",
   "id": "marked-musician",
   "metadata": {
    "id": "hazardous-albuquerque"
   },
   "source": [
    "**3)** And lastly, for $d=3$."
   ]
  },
  {
   "cell_type": "code",
   "execution_count": null,
   "id": "secret-equivalent",
   "metadata": {
    "id": "analyzed-desire"
   },
   "outputs": [],
   "source": [
    "# choose our number of principle components\n",
    "k = 3\n",
    "\n",
    "# compute the projection, the eigenvector and eigenvalues from our function\n",
    "X_pca, eigenvectors, eigenvalues = pca_function(feature_matrix,k) "
   ]
  },
  {
   "cell_type": "code",
   "execution_count": null,
   "id": "brief-trade",
   "metadata": {
    "id": "significant-madness",
    "outputId": "1651e12d-6bdc-4f7f-af04-265f6818e0fb"
   },
   "outputs": [
    {
     "data": {
      "text/plain": [
       "Text(0.5, 0, 'Component 3')"
      ]
     },
     "execution_count": 630,
     "metadata": {
      "tags": []
     },
     "output_type": "execute_result"
    },
    {
     "data": {
      "image/png": "[encoded data removed]",
      "text/plain": [
       "<Figure size 720x504 with 1 Axes>"
      ]
     },
     "metadata": {
      "needs_background": "light",
      "tags": []
     },
     "output_type": "display_data"
    }
   ],
   "source": [
    "fig = plt.figure(figsize=(10,7))\n",
    "ax = plt.axes(projection='3d')\n",
    "\n",
    "# data for a three-dimensional plot\n",
    "zdata = X_pca[:,0]\n",
    "xdata = X_pca[:,1]\n",
    "ydata = X_pca[:,2]\n",
    "\n",
    "# plotting\n",
    "ax.scatter3D(xdata, ydata, zdata)\n",
    "ax.set_zlabel(\"Component 1\")\n",
    "ax.set_xlabel(\"Component 2\")\n",
    "ax.set_ylabel(\"Component 3\")"
   ]
  },
  {
   "cell_type": "markdown",
   "id": "working-scotland",
   "metadata": {
    "id": "rotary-nurse"
   },
   "source": [
    "PCA can be used both for dimensionality reduction and for clustering. You could base a k-means clustering on PCA. And as we know, PCA is based on the eigenvectors of the $F^TF$ matrix which is giving you a reduced dimensional description of the data. By examining the structure in those eigenvectors, we should be able to see that there is a correspondance with the groups we obtain in task $2.1$. Indeed, the data looks like they are split into 2-3 clusters, like we got from the CH-score."
   ]
  },
  {
   "cell_type": "markdown",
   "id": "welcome-berlin",
   "metadata": {
    "id": "fiscal-diving"
   },
   "source": [
    "### 2.2.2 Proportion of explained variance PCA\n",
    "In this task, we will plot the proportion of explained variance of the PCA approximations of reduced dimensionality $d$ for all values of d in the interval $[1, 10]$. \n",
    "\n",
    "The proportion of explained variance of a principal component is defined as the ratio between the variance of that principal component and the total variance explained by all components. To obtain the 10 eigenvalues of the 10 principal components, I simply compute PCA for $d=10$."
   ]
  },
  {
   "cell_type": "code",
   "execution_count": null,
   "id": "electoral-yugoslavia",
   "metadata": {
    "id": "subject-gateway",
    "outputId": "f228ef38-ce52-4d7c-d101-bb45a51e9e50"
   },
   "outputs": [
    {
     "name": "stdout",
     "output_type": "stream",
     "text": [
      "The proportion of explained variance for the first 10 principle components is: \n",
      " [0.40823444 0.15642846 0.1260114  0.06814787 0.05808377 0.04625379\n",
      " 0.03804753 0.0348847  0.03345459 0.03045345]\n"
     ]
    }
   ],
   "source": [
    "# choose our number of principle components\n",
    "k = 10\n",
    "\n",
    "# compute the projection, the eigenvector and eigenvalues from our function\n",
    "X_pca, eigenvectors, eigenvalues = pca_function(feature_matrix,k) \n",
    "explained_variances = eigenvalues / np.sum(eigenvalues)\n",
    "\n",
    "print('The proportion of explained variance for the first 10 principle components is: \\n', explained_variances)"
   ]
  },
  {
   "cell_type": "code",
   "execution_count": null,
   "id": "medical-riding",
   "metadata": {
    "id": "included-computer",
    "outputId": "cb8ce037-952b-4118-b8dd-c3c893243178"
   },
   "outputs": [
    {
     "data": {
      "text/plain": [
       "Text(0.5, 1.0, '% Explained variance as number of components increases')"
      ]
     },
     "execution_count": 632,
     "metadata": {
      "tags": []
     },
     "output_type": "execute_result"
    },
    {
     "data": {
      "image/png": "[encoded data removed]",
      "text/plain": [
       "<Figure size 432x288 with 1 Axes>"
      ]
     },
     "metadata": {
      "needs_background": "light",
      "tags": []
     },
     "output_type": "display_data"
    }
   ],
   "source": [
    "plt.bar(range(1,11), explained_variances)\n",
    "plt.xlabel(\"Number of components\")\n",
    "plt.ylabel(\"% Explained variance\")\n",
    "plt.title(\"% Explained variance as number of components increases\")"
   ]
  },
  {
   "cell_type": "markdown",
   "id": "second-criminal",
   "metadata": {
    "id": "acting-chaos"
   },
   "source": [
    "About 69% of the variance is explained by the first 3 components, this is an indication that the dataset is well described in a reduced dimension. PCA is based on the eigenvector of the $F^TF$ matrix which is giving you a reduced dimensional description of the data. The subspace spanned by the principal component direction is identical to the cluster centroid subspace."
   ]
  },
  {
   "cell_type": "markdown",
   "id": "banned-little",
   "metadata": {
    "id": "stuffed-wealth"
   },
   "source": [
    "### 2.3 Graph-based analysis\n",
    "### 2.3.1 Centralities\n",
    "\n",
    "To begin, graph centralities allow us to give a measure of importance of different nodes (or edges) in the graph. There are different measures one can use to do this and we will explore 3 of these in this task - PageRank, degree centrality, and eigenvector centrality (I will be using the definitions from our lecture notes). We will then study which nodes are highly central according to the three centralities (I will be looking at the top 8 central nodes as these will be used in the following task). Lastly, we will discuss the similarity between the node rankings according to the different centrality measures and explain why the centrality rankings might differ.\n",
    "\n",
    "PageRank and eigenvector centrality are spectral measures of centrality. As opposed to these two, degree centrality is a combinatorial measure (counting the number of number of connections)."
   ]
  },
  {
   "cell_type": "markdown",
   "id": "friendly-steal",
   "metadata": {
    "id": "danish-satin"
   },
   "source": [
    "Similarly, we start off with a bit for EDA to see what the adjacency matrix A looks like."
   ]
  },
  {
   "cell_type": "code",
   "execution_count": null,
   "id": "extensive-prisoner",
   "metadata": {
    "colab": {
     "base_uri": "https://localhost:8080/",
     "height": 296,
     "resources": {
      "http://localhost:8080/nbextensions/google.colab/files.js": {
       "data": "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",
       "headers": [
        [
         "content-type",
         "application/javascript"
        ]
       ],
       "ok": true,
       "status": 200,
       "status_text": ""
      }
     }
    },
    "id": "opponent-notion",
    "outputId": "aeaf38d7-631a-407c-f573-347826f9fe33"
   },
   "outputs": [
    {
     "data": {
      "text/html": [
       "<div>\n",
       "<style scoped>\n",
       "    .dataframe tbody tr th:only-of-type {\n",
       "        vertical-align: middle;\n",
       "    }\n",
       "\n",
       "    .dataframe tbody tr th {\n",
       "        vertical-align: top;\n",
       "    }\n",
       "\n",
       "    .dataframe thead th {\n",
       "        text-align: right;\n",
       "    }\n",
       "</style>\n",
       "<table border=\"1\" class=\"dataframe\">\n",
       "  <thead>\n",
       "    <tr style=\"text-align: right;\">\n",
       "      <th></th>\n",
       "      <th>Unnamed: 0</th>\n",
       "      <th>0</th>\n",
       "      <th>1</th>\n",
       "      <th>2</th>\n",
       "      <th>3</th>\n",
       "      <th>4</th>\n",
       "      <th>5</th>\n",
       "      <th>6</th>\n",
       "      <th>7</th>\n",
       "      <th>8</th>\n",
       "      <th>...</th>\n",
       "      <th>24</th>\n",
       "      <th>25</th>\n",
       "      <th>26</th>\n",
       "      <th>27</th>\n",
       "      <th>28</th>\n",
       "      <th>29</th>\n",
       "      <th>30</th>\n",
       "      <th>31</th>\n",
       "      <th>32</th>\n",
       "      <th>33</th>\n",
       "    </tr>\n",
       "  </thead>\n",
       "  <tbody>\n",
       "    <tr>\n",
       "      <th>0</th>\n",
       "      <td>0</td>\n",
       "      <td>0.0</td>\n",
       "      <td>1.0</td>\n",
       "      <td>1.0</td>\n",
       "      <td>1.0</td>\n",
       "      <td>1.0</td>\n",
       "      <td>1.0</td>\n",
       "      <td>1.0</td>\n",
       "      <td>1.0</td>\n",
       "      <td>1.0</td>\n",
       "      <td>...</td>\n",
       "      <td>0.0</td>\n",
       "      <td>0.0</td>\n",
       "      <td>0.0</td>\n",
       "      <td>0.0</td>\n",
       "      <td>0.0</td>\n",
       "      <td>0.0</td>\n",
       "      <td>0.0</td>\n",
       "      <td>1.0</td>\n",
       "      <td>0.0</td>\n",
       "      <td>0.0</td>\n",
       "    </tr>\n",
       "    <tr>\n",
       "      <th>1</th>\n",
       "      <td>1</td>\n",
       "      <td>1.0</td>\n",
       "      <td>0.0</td>\n",
       "      <td>1.0</td>\n",
       "      <td>1.0</td>\n",
       "      <td>0.0</td>\n",
       "      <td>0.0</td>\n",
       "      <td>0.0</td>\n",
       "      <td>1.0</td>\n",
       "      <td>0.0</td>\n",
       "      <td>...</td>\n",
       "      <td>0.0</td>\n",
       "      <td>0.0</td>\n",
       "      <td>0.0</td>\n",
       "      <td>0.0</td>\n",
       "      <td>0.0</td>\n",
       "      <td>0.0</td>\n",
       "      <td>1.0</td>\n",
       "      <td>0.0</td>\n",
       "      <td>0.0</td>\n",
       "      <td>0.0</td>\n",
       "    </tr>\n",
       "    <tr>\n",
       "      <th>2</th>\n",
       "      <td>2</td>\n",
       "      <td>1.0</td>\n",
       "      <td>1.0</td>\n",
       "      <td>0.0</td>\n",
       "      <td>1.0</td>\n",
       "      <td>0.0</td>\n",
       "      <td>0.0</td>\n",
       "      <td>0.0</td>\n",
       "      <td>1.0</td>\n",
       "      <td>1.0</td>\n",
       "      <td>...</td>\n",
       "      <td>0.0</td>\n",
       "      <td>0.0</td>\n",
       "      <td>0.0</td>\n",
       "      <td>1.0</td>\n",
       "      <td>1.0</td>\n",
       "      <td>0.0</td>\n",
       "      <td>0.0</td>\n",
       "      <td>0.0</td>\n",
       "      <td>1.0</td>\n",
       "      <td>0.0</td>\n",
       "    </tr>\n",
       "    <tr>\n",
       "      <th>3</th>\n",
       "      <td>3</td>\n",
       "      <td>1.0</td>\n",
       "      <td>1.0</td>\n",
       "      <td>1.0</td>\n",
       "      <td>0.0</td>\n",
       "      <td>0.0</td>\n",
       "      <td>0.0</td>\n",
       "      <td>0.0</td>\n",
       "      <td>1.0</td>\n",
       "      <td>0.0</td>\n",
       "      <td>...</td>\n",
       "      <td>0.0</td>\n",
       "      <td>0.0</td>\n",
       "      <td>0.0</td>\n",
       "      <td>0.0</td>\n",
       "      <td>0.0</td>\n",
       "      <td>0.0</td>\n",
       "      <td>0.0</td>\n",
       "      <td>0.0</td>\n",
       "      <td>0.0</td>\n",
       "      <td>0.0</td>\n",
       "    </tr>\n",
       "    <tr>\n",
       "      <th>4</th>\n",
       "      <td>4</td>\n",
       "      <td>1.0</td>\n",
       "      <td>0.0</td>\n",
       "      <td>0.0</td>\n",
       "      <td>0.0</td>\n",
       "      <td>0.0</td>\n",
       "      <td>0.0</td>\n",
       "      <td>1.0</td>\n",
       "      <td>0.0</td>\n",
       "      <td>0.0</td>\n",
       "      <td>...</td>\n",
       "      <td>0.0</td>\n",
       "      <td>0.0</td>\n",
       "      <td>0.0</td>\n",
       "      <td>0.0</td>\n",
       "      <td>0.0</td>\n",
       "      <td>0.0</td>\n",
       "      <td>0.0</td>\n",
       "      <td>0.0</td>\n",
       "      <td>0.0</td>\n",
       "      <td>0.0</td>\n",
       "    </tr>\n",
       "  </tbody>\n",
       "</table>\n",
       "<p>5 rows × 35 columns</p>\n",
       "</div>"
      ],
      "text/plain": [
       "   Unnamed: 0    0    1    2    3    4    5    6    7    8  ...   24   25  \\\n",
       "0           0  0.0  1.0  1.0  1.0  1.0  1.0  1.0  1.0  1.0  ...  0.0  0.0   \n",
       "1           1  1.0  0.0  1.0  1.0  0.0  0.0  0.0  1.0  0.0  ...  0.0  0.0   \n",
       "2           2  1.0  1.0  0.0  1.0  0.0  0.0  0.0  1.0  1.0  ...  0.0  0.0   \n",
       "3           3  1.0  1.0  1.0  0.0  0.0  0.0  0.0  1.0  0.0  ...  0.0  0.0   \n",
       "4           4  1.0  0.0  0.0  0.0  0.0  0.0  1.0  0.0  0.0  ...  0.0  0.0   \n",
       "\n",
       "    26   27   28   29   30   31   32   33  \n",
       "0  0.0  0.0  0.0  0.0  0.0  1.0  0.0  0.0  \n",
       "1  0.0  0.0  0.0  0.0  1.0  0.0  0.0  0.0  \n",
       "2  0.0  1.0  1.0  0.0  0.0  0.0  1.0  0.0  \n",
       "3  0.0  0.0  0.0  0.0  0.0  0.0  0.0  0.0  \n",
       "4  0.0  0.0  0.0  0.0  0.0  0.0  0.0  0.0  \n",
       "\n",
       "[5 rows x 35 columns]"
      ]
     },
     "execution_count": 178,
     "metadata": {
      "tags": []
     },
     "output_type": "execute_result"
    }
   ],
   "source": [
    "# import data\n",
    "#from google.colab import files\n",
    "\n",
    "#karate_graph = files.upload()\n",
    "karate_graph = pd.read_csv('karate_club_graph.csv')\n",
    "karate_graph.head()"
   ]
  },
  {
   "cell_type": "code",
   "execution_count": null,
   "id": "elegant-document",
   "metadata": {
    "id": "vulnerable-degree"
   },
   "outputs": [],
   "source": [
    "#turning dataframe into numpy array\n",
    "karate_graph = np.array(karate_graph) \n",
    "# removing the first column of the karate_graph data\n",
    "A = np.delete(karate_graph , obj=0, axis=1)"
   ]
  },
  {
   "cell_type": "markdown",
   "id": "sacred-debut",
   "metadata": {
    "id": "organic-check"
   },
   "source": [
    "We also visualise the adjacenty matrix."
   ]
  },
  {
   "cell_type": "code",
   "execution_count": null,
   "id": "answering-bubble",
   "metadata": {
    "colab": {
     "base_uri": "https://localhost:8080/",
     "height": 286
    },
    "id": "isolated-lawrence",
    "outputId": "2f2c745d-24ae-4864-cf12-2e1f6b61640c"
   },
   "outputs": [
    {
     "data": {
      "text/plain": [
       "<matplotlib.colorbar.Colorbar at 0x1a48dc43d0>"
      ]
     },
     "execution_count": 181,
     "metadata": {
      "tags": []
     },
     "output_type": "execute_result"
    },
    {
     "data": {
      "image/png": "[encoded data removed]",
      "text/plain": [
       "<Figure size 432x288 with 2 Axes>"
      ]
     },
     "metadata": {
      "needs_background": "light",
      "tags": []
     },
     "output_type": "display_data"
    }
   ],
   "source": [
    "# plot a heatmap of the adjacency matrix\n",
    "plt.imshow(A)\n",
    "plt.colorbar()"
   ]
  },
  {
   "cell_type": "markdown",
   "id": "sophisticated-beverage",
   "metadata": {
    "id": "iraqi-aircraft"
   },
   "source": [
    "**1) PageRank**\n",
    "\n",
    "PageRank is probably the most important centrality measure. To model this, we model a random walk on a graph where we have a probability that we follow the directed graph given and the rest of the probability will be to jump to another node with no connection to the node at which you are - $\\alpha$ is the probability that we follow the random walk along the directed graph, and jump with prob $1-\\alpha$ to any other node on the graph. PageRank is the stationary point of this process. It is an iterative process defined by:\n",
    "$$\n",
    "\\textbf{c}_{PR_{t+1}}= \\alpha(AD^{-1})\\textbf{c}_{PR_t} + (1-\\alpha)\\frac{\\textbf{1}}{N}\n",
    "$$\n",
    "Our goal is therefore to solve the following equation:\n",
    "$$\n",
    "\\textbf{c}_{PR}= \\alpha(AD^{-1})\\textbf{c}_{PR} + (1-\\alpha)\\frac{\\textbf{1}}{N}\n",
    "$$\n",
    "Where $N$ is the number of nodes and $AD^{-1}$ is the transition matrix (making every column sum to 1). The default value we set for alpha is 0.85."
   ]
  },
  {
   "cell_type": "code",
   "execution_count": null,
   "id": "clear-complaint",
   "metadata": {
    "id": "dutch-paste"
   },
   "outputs": [],
   "source": [
    "def page_rank(A, alpha=0.85, tol=1e-2, max_iter=100):\n",
    "  transition_matrix = A / A.sum(axis=0)\n",
    "  N = len(A)\n",
    "  pr = np.ones(N) * 1./N\n",
    "  for it in range(max_iter):\n",
    "        old_pr = pr\n",
    "        pr = alpha * transition_matrix.dot(pr) + (1-alpha)/N \n",
    "        err = np.absolute(pr - old_pr).sum()\n",
    "        if err < tol:\n",
    "            return pr"
   ]
  },
  {
   "cell_type": "code",
   "execution_count": null,
   "id": "proud-registration",
   "metadata": {
    "colab": {
     "base_uri": "https://localhost:8080/"
    },
    "id": "southern-repository",
    "outputId": "c5a96752-f604-4ca1-f0c5-46069196d632"
   },
   "outputs": [
    {
     "name": "stdout",
     "output_type": "stream",
     "text": [
      "PageRank of the graph: \n",
      " [0.09700637 0.05287998 0.05707835 0.03586122 0.02198064 0.02911521\n",
      " 0.02911521 0.02449071 0.02976443 0.0143084  0.02198064 0.00956498\n",
      " 0.01464531 0.02953579 0.01453417 0.01453417 0.01678665 0.01455882\n",
      " 0.01453417 0.01960389 0.01453417 0.01455882 0.01453417 0.03151937\n",
      " 0.0210751  0.02100533 0.01504278 0.02563788 0.01957248 0.02628607\n",
      " 0.02458832 0.037155   0.07169261 0.10091876]\n"
     ]
    }
   ],
   "source": [
    "pagerank = page_rank(A, alpha=0.85, tol=1e-4, max_iter=100)\n",
    "print(\"PageRank of the graph: \\n\", pagerank)"
   ]
  },
  {
   "cell_type": "code",
   "execution_count": null,
   "id": "combined-whale",
   "metadata": {
    "id": "affected-picnic",
    "outputId": "e8c8f08c-82d9-4bb4-e004-df75eb8b09fb"
   },
   "outputs": [
    {
     "name": "stdout",
     "output_type": "stream",
     "text": [
      "The top 8 most central nodes according to degree centrality are nodes [23  3 31  1  2 32  0 33]\n"
     ]
    }
   ],
   "source": [
    "# top 8 most central nodes for PageRank\n",
    "top_pagerank_nodes = np.argsort(pagerank)[-8:]\n",
    "print(\"The top 8 most central nodes according to degree centrality are nodes\", top_pagerank_nodes)"
   ]
  },
  {
   "cell_type": "markdown",
   "id": "crazy-duplicate",
   "metadata": {
    "id": "naughty-farming"
   },
   "source": [
    "Where node $33$ is the most central node and node $23$ is the 8th most central node."
   ]
  },
  {
   "cell_type": "markdown",
   "id": "residential-devil",
   "metadata": {
    "id": "divided-insert"
   },
   "source": [
    "**2) Degree centrality**\n",
    "\n",
    "Degree centrality is the simplest measure of centrality and the importance of a node is simply defined by its degree. The degree centrality of a node is the fraction of nodes it is connected to. This measure is directly computed from the adjacency matrix $A$. Note that several equivalent equations exist for degree centrality, I have chosen the following one:\n",
    "$$\n",
    "\\textbf{c}_d = \\frac{\\textbf{d}}{2E} = \\frac{A\\textbf{1}}{2E}\n",
    "$$\n",
    "where $A$ is the adjency matrix and $E$ is the number of edges in the graph, in our case $E=78$."
   ]
  },
  {
   "cell_type": "code",
   "execution_count": null,
   "id": "noble-alcohol",
   "metadata": {
    "id": "linear-restaurant"
   },
   "outputs": [],
   "source": [
    "def degree_centrality(A):\n",
    "  sum_of_rows = np.sum(A, axis=1)\n",
    "  degree_centrality = sum_of_rows / (2*78)\n",
    "  return  degree_centrality"
   ]
  },
  {
   "cell_type": "code",
   "execution_count": null,
   "id": "encouraging-updating",
   "metadata": {
    "id": "perceived-clerk",
    "outputId": "b32a2c8b-ce0a-4a39-c09a-57b0549388e1",
    "scrolled": true
   },
   "outputs": [
    {
     "name": "stdout",
     "output_type": "stream",
     "text": [
      "Degree Centralities of the graph: \n",
      " [0.1025641  0.05769231 0.06410256 0.03846154 0.01923077 0.02564103\n",
      " 0.02564103 0.02564103 0.03205128 0.01282051 0.01923077 0.00641026\n",
      " 0.01282051 0.03205128 0.01282051 0.01282051 0.01282051 0.01282051\n",
      " 0.01282051 0.01923077 0.01282051 0.01282051 0.01282051 0.03205128\n",
      " 0.01923077 0.01923077 0.01282051 0.02564103 0.01923077 0.02564103\n",
      " 0.02564103 0.03846154 0.07692308 0.10897436]\n"
     ]
    }
   ],
   "source": [
    "degreecentrality = degree_centrality(A)\n",
    "print(\"Degree Centralities of the graph: \\n\", degreecentrality)"
   ]
  },
  {
   "cell_type": "code",
   "execution_count": null,
   "id": "consolidated-resident",
   "metadata": {
    "colab": {
     "base_uri": "https://localhost:8080/"
    },
    "id": "prescribed-congress",
    "outputId": "656072bc-6ef6-4a54-ca85-4f6fa12ad039"
   },
   "outputs": [
    {
     "name": "stdout",
     "output_type": "stream",
     "text": [
      "The top 8 most central nodes according to degree centrality are nodes [23  3 31  1  2 32  0 33]\n"
     ]
    }
   ],
   "source": [
    "# top 8 most central nodes for degree centrality\n",
    "top_degree_nodes = np.argsort(degreecentrality)[-8:]\n",
    "print(\"The top 8 most central nodes according to degree centrality are nodes\", top_degree_nodes)"
   ]
  },
  {
   "cell_type": "markdown",
   "id": "crazy-geneva",
   "metadata": {
    "id": "applied-librarian"
   },
   "source": [
    "According to degree centrality, the top 8 nodes are the same as those of PageRank."
   ]
  },
  {
   "cell_type": "markdown",
   "id": "broad-jonathan",
   "metadata": {
    "id": "unavailable-active"
   },
   "source": [
    "**3) Eigenvector centrality**\n",
    "\n",
    "Lastly, the idea behind this measure is that the central node is connected to other central nodes, i.e. the eigenvector centrality centrality of node i can be thought of as a linear combination of eigenvector centrality of node j:\n",
    "$$\n",
    "\\textbf{c}_e(i) = \\alpha \\sum_j A_{ij}\\textbf{c}_e(j)\n",
    "$$\n",
    "We can rewrite this as a matrix-eigenvalue problem given by:\n",
    "$$\n",
    "A\\textbf{c}_e = \\lambda \\textbf{c}_e\n",
    "$$\n",
    "This can be solved by looking at the leading eigenvector of the adjacency matrix $A$. The leading eigenvector of $A$ has as its components the eigenvector centralities of each of the nodes."
   ]
  },
  {
   "cell_type": "code",
   "execution_count": null,
   "id": "fewer-plymouth",
   "metadata": {
    "id": "elect-camping"
   },
   "outputs": [],
   "source": [
    "import scipy.linalg as la\n",
    "\n",
    "def eigenvector_centrality(A):\n",
    "  matrix_size = len(A)\n",
    "  # get eigenvalues and eigenvectors\n",
    "  eigvals, eigvecs = la.eig(A)\n",
    "  # index of the max absolute eigenvalue of the graph\n",
    "  index = (np.abs(max(eigvals, key=abs))).argmax()\n",
    "  # respective eigenvector of the max eigenvalue\n",
    "  eigen_centrality_values = [eigvecs[ecv,index] for ecv in range(matrix_size)]\n",
    "  eigen_centrality_values = np.asarray(eigen_centrality_values) # turning list into a numpy array\n",
    "  return eigen_centrality_values"
   ]
  },
  {
   "cell_type": "code",
   "execution_count": null,
   "id": "instant-festival",
   "metadata": {
    "colab": {
     "base_uri": "https://localhost:8080/"
    },
    "id": "nominated-kansas",
    "outputId": "f20eb2d6-23b4-46f4-ed9a-324baf7509aa"
   },
   "outputs": [
    {
     "name": "stdout",
     "output_type": "stream",
     "text": [
      "Eigenvector Centralities of the Graph: \n",
      " [0.35549144+0.j 0.26595992+0.j 0.3171925 +0.j 0.21117972+0.j\n",
      " 0.07596882+0.j 0.07948305+0.j 0.07948305+0.j 0.17095975+0.j\n",
      " 0.22740391+0.j 0.10267425+0.j 0.07596882+0.j 0.0528557 +0.j\n",
      " 0.08425463+0.j 0.22647272+0.j 0.10140326+0.j 0.10140326+0.j\n",
      " 0.02363563+0.j 0.09239954+0.j 0.10140326+0.j 0.14791251+0.j\n",
      " 0.10140326+0.j 0.09239954+0.j 0.10140326+0.j 0.15011857+0.j\n",
      " 0.05705244+0.j 0.05920647+0.j 0.07557941+0.j 0.13347715+0.j\n",
      " 0.13107782+0.j 0.13496082+0.j 0.1747583 +0.j 0.19103384+0.j\n",
      " 0.30864422+0.j 0.37336347+0.j]\n"
     ]
    }
   ],
   "source": [
    "eigenvectorcentrality = eigenvector_centrality(A)\n",
    "print(\"Eigenvector Centralities of the Graph: \\n\", eigenvectorcentrality)"
   ]
  },
  {
   "cell_type": "code",
   "execution_count": null,
   "id": "joint-shower",
   "metadata": {
    "id": "stable-appointment",
    "outputId": "9e4fcb76-37fc-4187-c76b-d4de170c33f2"
   },
   "outputs": [
    {
     "name": "stdout",
     "output_type": "stream",
     "text": [
      "The top 8 most central nodes according to eigenvector centrality are nodes [ 3 13  8  1 32  2  0 33]\n"
     ]
    }
   ],
   "source": [
    "# top 8 most central nodes for eigenvector centrality\n",
    "top_eigenvector_nodes = np.argsort(eigenvectorcentrality)[-8:]\n",
    "print(\"The top 8 most central nodes according to eigenvector centrality are nodes\", top_eigenvector_nodes )"
   ]
  },
  {
   "cell_type": "markdown",
   "id": "unusual-visibility",
   "metadata": {
    "id": "automatic-bottle"
   },
   "source": [
    "Now, we will be exploring the similarity between the node rankings according to the different centrality measures via correlation plots.\n",
    "\n",
    "The first thing I do is the find the index of the most central node to the least central node. Then, I reindex the nodes such that 0=most central node node and 33=least central node."
   ]
  },
  {
   "cell_type": "code",
   "execution_count": null,
   "id": "suffering-phone",
   "metadata": {
    "id": "removed-qualification"
   },
   "outputs": [],
   "source": [
    "rank = np.argsort(-pagerank) # finding the biggest to smallest node for page rank\n",
    "\n",
    "# reindexing nodes\n",
    "rank_p = np.zeros(34)\n",
    "for i in range(34):\n",
    "    rank_p[rank[i]] = i"
   ]
  },
  {
   "cell_type": "code",
   "execution_count": null,
   "id": "peaceful-mystery",
   "metadata": {
    "id": "joint-crowd"
   },
   "outputs": [],
   "source": [
    "# do the same for degree centrality\n",
    "rank = np.argsort(-degreecentrality)\n",
    "rank_c = np.zeros(34)\n",
    "for i in range(34):\n",
    "    rank_c[rank[i]] = i"
   ]
  },
  {
   "cell_type": "code",
   "execution_count": null,
   "id": "engaging-fireplace",
   "metadata": {
    "id": "familiar-calibration"
   },
   "outputs": [],
   "source": [
    "# do the same for eigenvector centrality\n",
    "rank = np.argsort(-eigenvectorcentrality)\n",
    "rank_e = np.zeros(34)\n",
    "for i in range(34):\n",
    "    rank_e[rank[i]] = i"
   ]
  },
  {
   "cell_type": "markdown",
   "id": "preliminary-cocktail",
   "metadata": {
    "id": "juvenile-maryland"
   },
   "source": [
    "Now we explore the correlation between these."
   ]
  },
  {
   "cell_type": "code",
   "execution_count": null,
   "id": "romantic-kidney",
   "metadata": {
    "id": "brazilian-spray",
    "outputId": "d9f227fa-a67b-4ff2-cf3d-4f088b367c6d"
   },
   "outputs": [
    {
     "data": {
      "text/html": [
       "<div>\n",
       "<style scoped>\n",
       "    .dataframe tbody tr th:only-of-type {\n",
       "        vertical-align: middle;\n",
       "    }\n",
       "\n",
       "    .dataframe tbody tr th {\n",
       "        vertical-align: top;\n",
       "    }\n",
       "\n",
       "    .dataframe thead th {\n",
       "        text-align: right;\n",
       "    }\n",
       "</style>\n",
       "<table border=\"1\" class=\"dataframe\">\n",
       "  <thead>\n",
       "    <tr style=\"text-align: right;\">\n",
       "      <th></th>\n",
       "      <th>PageRank</th>\n",
       "      <th>Degree Centrality</th>\n",
       "      <th>Eigenvector Centrality</th>\n",
       "    </tr>\n",
       "  </thead>\n",
       "  <tbody>\n",
       "    <tr>\n",
       "      <th>PageRank</th>\n",
       "      <td>1.000000</td>\n",
       "      <td>0.963636</td>\n",
       "      <td>0.675783</td>\n",
       "    </tr>\n",
       "    <tr>\n",
       "      <th>Degree Centrality</th>\n",
       "      <td>0.963636</td>\n",
       "      <td>1.000000</td>\n",
       "      <td>0.763178</td>\n",
       "    </tr>\n",
       "    <tr>\n",
       "      <th>Eigenvector Centrality</th>\n",
       "      <td>0.675783</td>\n",
       "      <td>0.763178</td>\n",
       "      <td>1.000000</td>\n",
       "    </tr>\n",
       "  </tbody>\n",
       "</table>\n",
       "</div>"
      ],
      "text/plain": [
       "                        PageRank  Degree Centrality  Eigenvector Centrality\n",
       "PageRank                1.000000           0.963636                0.675783\n",
       "Degree Centrality       0.963636           1.000000                0.763178\n",
       "Eigenvector Centrality  0.675783           0.763178                1.000000"
      ]
     },
     "execution_count": 199,
     "metadata": {
      "tags": []
     },
     "output_type": "execute_result"
    }
   ],
   "source": [
    "# create a dataframe to store ranked centrality measures\n",
    "df = pd.DataFrame(list(zip(rank_p, rank_c, rank_e)), columns=[\"PageRank\", \"Degree Centrality\", \"Eigenvector Centrality\"])\n",
    "correlation_matrix = df.corr()\n",
    "correlation_matrix"
   ]
  },
  {
   "cell_type": "code",
   "execution_count": null,
   "id": "initial-raising",
   "metadata": {
    "id": "cheap-relation",
    "outputId": "4ba944a1-b82d-4764-86bb-c3d7493e79f3"
   },
   "outputs": [
    {
     "data": {
      "text/plain": [
       "Text(0.5, 1.0, 'Correlation plot between node rankings according to different centrality measures')"
      ]
     },
     "execution_count": 200,
     "metadata": {
      "tags": []
     },
     "output_type": "execute_result"
    },
    {
     "data": {
      "image/png": "[encoded data removed]",
      "text/plain": [
       "<Figure size 576x576 with 2 Axes>"
      ]
     },
     "metadata": {
      "needs_background": "light",
      "tags": []
     },
     "output_type": "display_data"
    }
   ],
   "source": [
    "# plot correlation matrix using heatmap\n",
    "fig, ax = plt.subplots(figsize=(8,8))\n",
    "sns.heatmap(data=correlation_matrix, annot=True)\n",
    "plt.title(\"Correlation plot between node rankings according to different centrality measures\", size=14)"
   ]
  },
  {
   "cell_type": "markdown",
   "id": "historic-valuable",
   "metadata": {
    "id": "applicable-anthony"
   },
   "source": [
    "From the correlation plot above, we can observe that degree centrality and PageRank are highly correlated (0.96) centrality measures when the nodes are ranked. As we saw earlier, these two centrality measures had the exact same top 8 most central nodes. Then, degree centrality and eigenvector centrality have a correlation of 0.76 and lastly, PageRank and eigenvector centrality have a correlation of 0.68.\n",
    "\n",
    "The centrality rankings might differ because PageRank and eigenvector centrality are spectral measures of centrality whereas degree centrality is a combinatorial measure (counting the number of number of connections).\n",
    "\n",
    "Eigenvector centrality starts of by computing a node's degree, but it goes a step further than degree centrality as it is an iterative process that counts the degree of the connections to that node. It is therefore interesting to note that a node can have a high degree centrality score, but a lower eigenvector centrality score if many of the connections with the node are with other lower-scored nodes. This explains why the correlation between the two is 0.76. (4)\n",
    "\n",
    "Lastly, a possible reason as to why PageRank is so highly correlated with degree centrality is because the PageRank of an undirected graph is statistically close to the degree distribution of the graph. The PageRank of an undirected graph equals the degree centrality if and only if the graph is regular (every node/vextex has the same degree). (7)\n",
    "\n",
    "The pairplot below further confirms the strong correlation between PageRank and degree centrality."
   ]
  },
  {
   "cell_type": "code",
   "execution_count": null,
   "id": "equipped-draft",
   "metadata": {
    "id": "dynamic-collar",
    "outputId": "28df4ce1-1560-4709-c572-038524c48c7a"
   },
   "outputs": [
    {
     "data": {
      "text/plain": [
       "<seaborn.axisgrid.PairGrid at 0x1a4a3feed0>"
      ]
     },
     "execution_count": 224,
     "metadata": {
      "tags": []
     },
     "output_type": "execute_result"
    },
    {
     "data": {
      "image/png": "[encoded data removed]",
      "text/plain": [
       "<Figure size 540x540 with 12 Axes>"
      ]
     },
     "metadata": {
      "needs_background": "light",
      "tags": []
     },
     "output_type": "display_data"
    }
   ],
   "source": [
    "sns.pairplot(df)"
   ]
  },
  {
   "cell_type": "markdown",
   "id": "cutting-access",
   "metadata": {
    "id": "charming-royal"
   },
   "source": [
    "### 2.3.2 Community detection\n",
    "In this task, we use the Clauset-Newman-Moore greedy modularity maximisation algorithm in NetworkX to compute the optimal number of communities $k^*$ and the corresponding partition of the karate club graph."
   ]
  },
  {
   "cell_type": "code",
   "execution_count": 66,
   "id": "imperial-producer",
   "metadata": {
    "colab": {
     "base_uri": "https://localhost:8080/",
     "height": 72,
     "resources": {
      "http://localhost:8080/nbextensions/google.colab/files.js": {
       "data": "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",
       "headers": [
        [
         "content-type",
         "application/javascript"
        ]
       ],
       "ok": true,
       "status": 200,
       "status_text": ""
      }
     }
    },
    "id": "applicable-cartridge",
    "outputId": "deb80eaf-4ceb-41ce-e75f-6159d39ede74"
   },
   "outputs": [
    {
     "data": {
      "text/html": [
       "\n",
       "     <input type=\"file\" id=\"files-0a021ee7-6f39-4c47-8c16-41ac723cd24a\" name=\"files[]\" multiple disabled\n",
       "        style=\"border:none\" />\n",
       "     <output id=\"result-0a021ee7-6f39-4c47-8c16-41ac723cd24a\">\n",
       "      Upload widget is only available when the cell has been executed in the\n",
       "      current browser session. Please rerun this cell to enable.\n",
       "      </output>\n",
       "      <script src=\"/nbextensions/google.colab/files.js\"></script> "
      ],
      "text/plain": [
       "<IPython.core.display.HTML object>"
      ]
     },
     "metadata": {
      "tags": []
     },
     "output_type": "display_data"
    },
    {
     "name": "stdout",
     "output_type": "stream",
     "text": [
      "Saving karate_club_graph.csv to karate_club_graph.csv\n"
     ]
    }
   ],
   "source": [
    "import networkx as nx\n",
    "from google.colab import files\n",
    "\n",
    "karate_graph = files.upload()\n",
    "karate_graph = pd.read_csv('karate_club_graph.csv')\n",
    "\n",
    "#turning dataframe into numpy array\n",
    "karate_graph = np.array(karate_graph) \n",
    "# removing the first column of the karate_graph data\n",
    "A = np.delete(karate_graph , obj=0, axis=1) # (34, 34)"
   ]
  },
  {
   "cell_type": "code",
   "execution_count": 68,
   "id": "wireless-float",
   "metadata": {
    "colab": {
     "base_uri": "https://localhost:8080/"
    },
    "id": "median-heaven",
    "outputId": "5bc7088c-0db4-499b-a427-4e219590ff82"
   },
   "outputs": [
    {
     "name": "stdout",
     "output_type": "stream",
     "text": [
      "Optimal number of communities: 3\n"
     ]
    }
   ],
   "source": [
    "# import the Clauset-Newman-Moore greedy modularity maximisation algorithm\n",
    "from networkx.algorithms.community import greedy_modularity_communities\n",
    "\n",
    "# creating graph object from adjacency matrix\n",
    "G = nx.from_numpy_matrix(A)\n",
    "\n",
    "# finding communities with CNM algorithm\n",
    "communities = nx.algorithms.community.greedy_modularity_communities(G)\n",
    "\n",
    "# number of communities\n",
    "k_star = len(communities)\n",
    "print(\"Optimal number of communities: {}\".format(k_star))"
   ]
  },
  {
   "cell_type": "markdown",
   "id": "handmade-astronomy",
   "metadata": {
    "id": "dimensional-thursday"
   },
   "source": [
    "Next, we find which nodes below to which community."
   ]
  },
  {
   "cell_type": "code",
   "execution_count": 69,
   "id": "administrative-beaver",
   "metadata": {
    "colab": {
     "base_uri": "https://localhost:8080/"
    },
    "id": "classified-ethiopia",
    "outputId": "e79038f8-dd75-456f-b0db-834087a4a455"
   },
   "outputs": [
    {
     "name": "stdout",
     "output_type": "stream",
     "text": [
      "The 3 node groups are:  [[32, 33, 8, 14, 15, 18, 20, 22, 23, 24, 25, 26, 27, 28, 29, 30, 31], [1, 2, 3, 7, 9, 12, 13, 17, 21], [0, 4, 5, 6, 10, 11, 16, 19]]\n"
     ]
    }
   ],
   "source": [
    "# find the nodes forming the communities\n",
    "node_groups = []\n",
    "\n",
    "for i in communities:\n",
    "  node_groups.append(list(i))\n",
    "\n",
    "print(\"The 3 node groups are: \", node_groups)"
   ]
  },
  {
   "cell_type": "markdown",
   "id": "saving-bathroom",
   "metadata": {
    "id": "beneficial-founder"
   },
   "source": [
    "Now, we plot the obtained clusters of the graph assigning different colours to the nodes in each community."
   ]
  },
  {
   "cell_type": "code",
   "execution_count": null,
   "id": "spare-volume",
   "metadata": {
    "id": "extensive-arrangement",
    "outputId": "ea61bc20-ad5d-413f-c4c3-9c43c1b7ac58"
   },
   "outputs": [
    {
     "data": {
      "image/png": "[encoded data removed]",
      "text/plain": [
       "<Figure size 720x720 with 1 Axes>"
      ]
     },
     "metadata": {
      "tags": []
     },
     "output_type": "display_data"
    }
   ],
   "source": [
    "# plot the communities\n",
    "colour_map = []\n",
    "for node in G:\n",
    "    if node in node_groups[0]:\n",
    "        colour_map.append('blue')\n",
    "    elif node in node_groups[1]:\n",
    "        colour_map.append('orange')\n",
    "    else: \n",
    "        colour_map.append('green')  \n",
    "\n",
    "plt.subplots(figsize=(10,10))\n",
    "nx.draw(G, node_color=colour_map, pos=nx.spring_layout(G, iterations=200), with_labels=True, node_size=500)\n",
    "plt.title('Karate club graph with 3 communities in different colours', fontsize=18)\n",
    "plt.show()"
   ]
  },
  {
   "cell_type": "markdown",
   "id": "touched-immigration",
   "metadata": {
    "id": "usual-cloud"
   },
   "source": [
    "Next, we show the distribution across the $k^*$ (here 3) communities of the top 8 most central nodes via a histogram according to: 1) degree centrality and 2) Pagerank."
   ]
  },
  {
   "cell_type": "markdown",
   "id": "operating-equality",
   "metadata": {
    "id": "joined-warrior"
   },
   "source": [
    "**1) Degree Centrality**"
   ]
  },
  {
   "cell_type": "code",
   "execution_count": null,
   "id": "christian-niger",
   "metadata": {
    "id": "intelligent-separation",
    "outputId": "dc1182b5-a3f8-4ab6-83cd-3079a91837b6"
   },
   "outputs": [
    {
     "name": "stdout",
     "output_type": "stream",
     "text": [
      "The top 8 most central nodes according to degree centrality are nodes [23  3 31  1  2 32  0 33]\n"
     ]
    }
   ],
   "source": [
    "# top 8 most central nodes for degree centrality\n",
    "y = degree_centrality(A)\n",
    "top_degree_nodes = np.argsort(y)[-8:]\n",
    "print(\"The top 8 most central nodes according to degree centrality are nodes\", top_degree_nodes)"
   ]
  },
  {
   "cell_type": "markdown",
   "id": "regular-ivory",
   "metadata": {
    "id": "announced-consequence"
   },
   "source": [
    "We find the number of central nodes in each community."
   ]
  },
  {
   "cell_type": "code",
   "execution_count": null,
   "id": "rural-spelling",
   "metadata": {
    "id": "coupled-delivery"
   },
   "outputs": [],
   "source": [
    "com_1 = 0\n",
    "com_2 = 0\n",
    "com_3 = 0\n",
    "\n",
    "for i in top_degree_nodes:\n",
    "    if i in node_groups[0]:\n",
    "        com_1 += 1\n",
    "    elif i in node_groups[1]:\n",
    "        com_2 += 1\n",
    "    else: \n",
    "        com_3 += 1\n",
    "yaxis = [com_1, com_2, com_3]"
   ]
  },
  {
   "cell_type": "code",
   "execution_count": null,
   "id": "endless-spain",
   "metadata": {
    "id": "productive-editor",
    "outputId": "83115c41-8c40-46ab-e631-9a74f0158fe5"
   },
   "outputs": [
    {
     "data": {
      "text/plain": [
       "Text(0.5, 0, 'Community')"
      ]
     },
     "execution_count": 195,
     "metadata": {
      "tags": []
     },
     "output_type": "execute_result"
    },
    {
     "data": {
      "image/png": "[encoded data removed]",
      "text/plain": [
       "<Figure size 432x288 with 1 Axes>"
      ]
     },
     "metadata": {
      "needs_background": "light",
      "tags": []
     },
     "output_type": "display_data"
    }
   ],
   "source": [
    "# plotting histogram to see the distribution of the nodes\n",
    "plt.bar(range(1,4), yaxis)\n",
    "plt.title(\"Community histogram for degree centrality (Top 8 most central nodes)\")\n",
    "plt.ylabel(\"Count\")\n",
    "plt.xlabel(\"Community\")"
   ]
  },
  {
   "cell_type": "markdown",
   "id": "small-finger",
   "metadata": {
    "id": "fifth-summary"
   },
   "source": [
    "**2) PageRank**\n",
    "\n",
    "We do the same as above for PageRank."
   ]
  },
  {
   "cell_type": "code",
   "execution_count": null,
   "id": "sacred-story",
   "metadata": {
    "id": "distributed-compatibility",
    "outputId": "b6ccd13e-e265-43b0-c057-d938a2364947"
   },
   "outputs": [
    {
     "name": "stdout",
     "output_type": "stream",
     "text": [
      "The top 8 most central nodes according to Page rank are nodes [23  3 31  1  2 32  0 33]\n"
     ]
    }
   ],
   "source": [
    "# top 8 most central nodes for PageRank\n",
    "z = page_rank(A)\n",
    "top_pagerank_nodes = np.argsort(z)[-8:]\n",
    "print(\"The top 8 most central nodes according to PageRank are nodes\", top_pagerank_nodes)"
   ]
  },
  {
   "cell_type": "code",
   "execution_count": null,
   "id": "flying-function",
   "metadata": {
    "id": "choice-radiation"
   },
   "outputs": [],
   "source": [
    "com_1 = 0\n",
    "com_2 = 0\n",
    "com_3 = 0\n",
    "\n",
    "for i in top_pagerank_nodes:\n",
    "    if i in node_groups[0]:\n",
    "        com_1 += 1\n",
    "    elif i in node_groups[1]:\n",
    "        com_2 += 1\n",
    "    else: \n",
    "        com_3 += 1\n",
    "zaxis = [com_1, com_2, com_3]"
   ]
  },
  {
   "cell_type": "code",
   "execution_count": null,
   "id": "individual-detection",
   "metadata": {
    "id": "vanilla-velvet",
    "outputId": "d277c354-b3f3-42f6-caab-119eb416d02f"
   },
   "outputs": [
    {
     "data": {
      "text/plain": [
       "Text(0.5, 0, 'Community')"
      ]
     },
     "execution_count": 196,
     "metadata": {
      "tags": []
     },
     "output_type": "execute_result"
    },
    {
     "data": {
      "image/png": "[encoded data removed]",
      "text/plain": [
       "<Figure size 432x288 with 1 Axes>"
      ]
     },
     "metadata": {
      "needs_background": "light",
      "tags": []
     },
     "output_type": "display_data"
    }
   ],
   "source": [
    "# plotting histogram to see the distribution of the nodes\n",
    "plt.bar(range(1,4), zaxis)\n",
    "plt.title(\"Community histogram for PageRank (Top 8 most central nodes)\")\n",
    "plt.ylabel(\"Count\")\n",
    "plt.xlabel(\"Community\")"
   ]
  },
  {
   "cell_type": "markdown",
   "id": "religious-functionality",
   "metadata": {
    "id": "golden-thermal"
   },
   "source": [
    "As we can see from the two histograms, there are 4 nodes in the first community, 3 nodes in the second community and 1 node in the third community for both degree centrality and PageRank. Both histograms are the same because in the previous task, we saw that degree centrality and PageRank were very highly correlated centrality measures. \n",
    "\n",
    "Also, the first community contains more of the most central nodes compared to the second and third community. A reason for this is that community 1 has more of the total nodes than the 2 others, meaning that this community is larger with more connections to other central nodes."
   ]
  },
  {
   "cell_type": "markdown",
   "id": "capable-society",
   "metadata": {
    "id": "occupational-genre"
   },
   "source": [
    "### 2.3.3 Comparing clusterings using the Adjusted Rank Index (ARI)\n",
    "\n",
    "In this task, we will using the ARI to compare how similar the clustering obtained in 2.1.2 is to the one in 2.3.2, as well as how similar those clusterings are to the real-life acrimonious split given in the \"ground_truth_karate_club\" labels.\n",
    "\n",
    "The Adjusted Rank Index is use to quantify how similar two clusterings are. It is defined as:\n",
    "$$\n",
    "ARI = \\frac{RI - Expected RI}{max(RI) - Expected RI} = \\frac{\\sum_{ij}{n_{ij}\\choose 2}-\\big[\\sum_i{a_{i}\\choose 2}\\sum_j{b_{j}\\choose 2}\\big]\\big/{N\\choose 2}}{\\frac{1}{2}\\big[\\sum_i{a_{i}\\choose 2}+\\sum_j{b_{j}\\choose 2}\\big]-\\big[\\sum_i{a_{i}\\choose 2}\\sum_j{b_{j}\\choose 2}\\big]\\big/{N\\choose 2}}\n",
    "$$\n",
    "where $RI$ is the Rand Index, the ARI is the adjusted-for-chance version of the Rand Index (it takes randomness into account).\n",
    "$N$ is the number of data points in a given data set, $i$  refers to the row number, $j$  refers to the column number, $a_i$ are the row sums of the contingency table, $b_j$ are the column sums of the contingency table and $n_ij are all the elements of the contingency table. (5)\n",
    "\n",
    "The ARI can take values between $-1$ and $1$. A negative value means that the amount of overlap between the two input clustering sets is less than expected (independent labelling). The closer the ARI as to 1, the more similar the clusterings are."
   ]
  },
  {
   "cell_type": "markdown",
   "id": "successful-pride",
   "metadata": {
    "id": "favorite-girlfriend"
   },
   "source": [
    "I first import the ground truth labels from the karate club data and create my ARI function from the definition above."
   ]
  },
  {
   "cell_type": "code",
   "execution_count": 59,
   "id": "ceramic-cleveland",
   "metadata": {
    "colab": {
     "base_uri": "https://localhost:8080/",
     "height": 72,
     "resources": {
      "http://localhost:8080/nbextensions/google.colab/files.js": {
       "data": "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",
       "headers": [
        [
         "content-type",
         "application/javascript"
        ]
       ],
       "ok": true,
       "status": 200,
       "status_text": ""
      }
     }
    },
    "id": "vanilla-orlando",
    "outputId": "0d17586c-a5b7-472d-b120-1af65b604d00"
   },
   "outputs": [
    {
     "data": {
      "text/html": [
       "\n",
       "     <input type=\"file\" id=\"files-15d5243a-1338-4971-a53a-2668ac416d59\" name=\"files[]\" multiple disabled\n",
       "        style=\"border:none\" />\n",
       "     <output id=\"result-15d5243a-1338-4971-a53a-2668ac416d59\">\n",
       "      Upload widget is only available when the cell has been executed in the\n",
       "      current browser session. Please rerun this cell to enable.\n",
       "      </output>\n",
       "      <script src=\"/nbextensions/google.colab/files.js\"></script> "
      ],
      "text/plain": [
       "<IPython.core.display.HTML object>"
      ]
     },
     "metadata": {
      "tags": []
     },
     "output_type": "display_data"
    },
    {
     "name": "stdout",
     "output_type": "stream",
     "text": [
      "Saving ground_truth_karate_club.csv to ground_truth_karate_club.csv\n"
     ]
    }
   ],
   "source": [
    "from google.colab import files\n",
    "\n",
    "ground_truth = files.upload()\n",
    "ground_truth = pd.read_csv('ground_truth_karate_club.csv')\n",
    "\n",
    "#turning dataframe into numpy array\n",
    "ground_truth = np.array(ground_truth) \n",
    "# removing the first column of the ground_truth data\n",
    "ground_truth = np.delete(ground_truth, obj=0, axis=1) \n",
    "\n",
    "# replace the labels with 0s with 1s\n",
    "ground_truth = np.where(ground_truth == \"Mr. Hi\", 0, ground_truth) \n",
    "ground_truth = np.where(ground_truth == \"Officer\", 1, ground_truth)\n",
    "\n",
    "ground_truth = np.array([i[0] for i in ground_truth])"
   ]
  },
  {
   "cell_type": "code",
   "execution_count": 60,
   "id": "committed-rover",
   "metadata": {
    "id": "turned-guard"
   },
   "outputs": [],
   "source": [
    "# create combinatorial function\n",
    "from math import factorial\n",
    "def choose(x, n=2):\n",
    "    if x > n:\n",
    "        top = factorial(x)\n",
    "        bottom = n*factorial(x-n)\n",
    "        return top/bottom\n",
    "    else: # ensuring that denominator is not 0\n",
    "        return 0."
   ]
  },
  {
   "cell_type": "code",
   "execution_count": 62,
   "id": "natural-invite",
   "metadata": {
    "id": "valuable-shopper"
   },
   "outputs": [],
   "source": [
    "# function that computes the different components of the ARI\n",
    "def components(labels_true, labels_pred):\n",
    "    cont_table = pd.crosstab(labels_true, labels_pred)\n",
    "    rows, columns = cont_table.shape\n",
    "    row_sum = np.sum(cont_table, axis=1)\n",
    "    column_sum = np.sum(cont_table, axis=0)\n",
    "    a_i = 0\n",
    "    b_j = 0\n",
    "    n_ij = 0\n",
    "    for i in range(rows): \n",
    "        a_i += choose(row_sum[i] , n=2) # a_i is the row sum\n",
    "    for j in range(columns): \n",
    "        b_j += choose(column_sum[j] , n=2) # b_j is the column sum\n",
    "    for i in range(columns):\n",
    "        for j in range(rows): \n",
    "            n_ij += choose(cont_table[i][j] , n=2)\n",
    "    N = choose(len(labels_true), n=2) \n",
    "    e = a_i*b_j/N       \n",
    "    return a_i, b_j, n_ij, e"
   ]
  },
  {
   "cell_type": "code",
   "execution_count": 63,
   "id": "complicated-fusion",
   "metadata": {
    "id": "secondary-contents"
   },
   "outputs": [],
   "source": [
    "# putting everything together to compute ARI\n",
    "def ARI(labels_true, labels_pred):\n",
    "    a_i, b_j, n_ij, e = components(labels_true, labels_pred)\n",
    "    ari = (n_ij - e) / ((a_i+b_j)/2 - e)\n",
    "    return ari"
   ]
  },
  {
   "cell_type": "markdown",
   "id": "raising-summary",
   "metadata": {
    "id": "reasonable-accreditation"
   },
   "source": [
    "First, I compare how similar the clustering obtained in 2.1.2 (k-means) is to the one in 2.3.2 (from the different communities)."
   ]
  },
  {
   "cell_type": "code",
   "execution_count": 72,
   "id": "comprehensive-adaptation",
   "metadata": {
    "id": "mysterious-possibility"
   },
   "outputs": [],
   "source": [
    "# getting the predicted labels from kmeans with the optimal number of clusters\n",
    "X = feature_matrix\n",
    "k = 2\n",
    "i = 8 # pick a random seed\n",
    "centroids, labels = kmeans_centroids(X, k, i)\n",
    "centroids, labels = kmeans(X, centroids, labels, k, max_iter=20)\n",
    "labels_pred_kmeans = labels"
   ]
  },
  {
   "cell_type": "code",
   "execution_count": 73,
   "id": "serious-victory",
   "metadata": {
    "id": "original-railway"
   },
   "outputs": [],
   "source": [
    "# assigning labels to nodes in different communities\n",
    "nodes = np.arange(34)\n",
    "for node in nodes:\n",
    "    if node in node_groups[0]:\n",
    "        nodes[node] = 0\n",
    "    elif node in node_groups[1]:\n",
    "        nodes[node] = 1\n",
    "    else: \n",
    "        nodes[node] = 2 \n",
    "labels_pred_community = nodes"
   ]
  },
  {
   "cell_type": "code",
   "execution_count": null,
   "id": "infrared-november",
   "metadata": {
    "id": "accomplished-interaction",
    "outputId": "529a67a7-9d20-42a2-d139-e100dd64a646"
   },
   "outputs": [
    {
     "name": "stdout",
     "output_type": "stream",
     "text": [
      "The ARI for k-means and community clustering is  -0.031487014479429976\n"
     ]
    }
   ],
   "source": [
    "print(\"The ARI for k-means and community clustering is \", ARI(labels_pred_kmeans, labels_pred_community))"
   ]
  },
  {
   "cell_type": "markdown",
   "id": "mexican-franklin",
   "metadata": {
    "id": "medium-nerve"
   },
   "source": [
    "Next, I compare how similar the clustering from communities is to the real-life acrimonious split."
   ]
  },
  {
   "cell_type": "code",
   "execution_count": null,
   "id": "trying-explanation",
   "metadata": {
    "id": "ordered-maryland",
    "outputId": "e085dccd-e6c7-43e9-bf1e-330fd63a8de0"
   },
   "outputs": [
    {
     "name": "stdout",
     "output_type": "stream",
     "text": [
      "The ARI community clustering and real-life acrimonious data is  0.5684394071490846\n"
     ]
    }
   ],
   "source": [
    "print(\"The ARI community clustering and real-life acrimonious data is \", ARI(ground_truth, labels_pred_community))"
   ]
  },
  {
   "cell_type": "markdown",
   "id": "coordinate-moses",
   "metadata": {
    "id": "decimal-villa"
   },
   "source": [
    "Lastly, I compare how similar the clustering from 2.1.2 (k-means) is to the real-life acrimonious split given in the \"ground_truth_karate_club\" labels."
   ]
  },
  {
   "cell_type": "code",
   "execution_count": 74,
   "id": "secret-orleans",
   "metadata": {
    "colab": {
     "base_uri": "https://localhost:8080/"
    },
    "id": "sticky-municipality",
    "outputId": "f4f4f99c-ff1a-4eea-e872-d682054a0d20"
   },
   "outputs": [
    {
     "name": "stdout",
     "output_type": "stream",
     "text": [
      "The ARI for k-means and real-life acrimonious data is  0.0012970168612192327\n"
     ]
    }
   ],
   "source": [
    "print(\"The ARI for k-means and real-life acrimonious data is \", ARI(ground_truth, labels_pred_kmeans))"
   ]
  },
  {
   "cell_type": "markdown",
   "id": "nuclear-values",
   "metadata": {
    "id": "creative-belfast"
   },
   "source": [
    "As we can see from the ARI obtained above, the partition obtained from our community detection analysis appear to be the best in that the clustering is similar to the ground truth labels of the karate club graph. K-means performs poorly however, the ARI is close to 0 meaning the clustering between kmeans & the real-life acrimonious split and between kmeans & communities partition split is very dismilar."
   ]
  },
  {
   "cell_type": "markdown",
   "id": "present-oakland",
   "metadata": {
    "id": "stuck-vermont"
   },
   "source": [
    "### References\n",
    "**(1)** Kumar, Ujjwal. “Impact of Regularization on Deep Neural Networks”. Towards Data Science. 09/07/2020.\n",
    "https://towardsdatascience.com/impact-of-regularization-on-deep-neural-networks-1306c839d923\n",
    "\n",
    "**(2)** \"Calinski Harabasz Evaluation\". MathWorks. https://www.mathworks.com/help/stats/clustering.evaluation.calinskiharabaszevaluation-class.html\n",
    "\n",
    "**(3)** Cox, Nick.\"What is an acceptable value of the Calinski & Harabasz (CH) criterion?\" Stack Exchange. 15/07/2019. https://stats.stackexchange.com/questions/52838/what-is-an-acceptable-value-of-the-calinski-harabasz-ch-criterion\n",
    "\n",
    "**(4)** Disney, Andrew. \"EigenCentrality & PageRank.\" Cambridge Intelligence. 14/01/20. \n",
    "https://cambridge-intelligence.com/eigencentrality-pagerank/\n",
    "\n",
    "**(5)** Tang, Dave. \"The Adjusted Rand index\". Dave Tang's blog. 21/09/17.\n",
    "https://davetang.org/muse/2017/09/21/adjusted-rand-index/\n",
    "\n",
    "**(6)** \"Softmax classification with cross-entropy\".\n",
    "https://peterroelants.github.io/posts/cross-entropy-softmax/\n",
    "\n",
    "**(7)** \"PageRank\". Wikipedia. 20/03/21. https://en.wikipedia.org/wiki/PageRank#Variations"
   ]
  }
 ],
 "metadata": {
  "accelerator": "GPU",
  "colab": {
   "name": "Vermeulen01564896 VLast.ipynb",
   "provenance": []
  },
  "kernelspec": {
   "display_name": "Python 3",
   "language": "python",
   "name": "python3"
  },
  "language_info": {
   "codemirror_mode": {
    "name": "ipython",
    "version": 3
   },
   "file_extension": ".py",
   "mimetype": "text/x-python",
   "name": "python",
   "nbconvert_exporter": "python",
   "pygments_lexer": "ipython3",
   "version": "3.7.9"
  }
 },
 "nbformat": 4,
 "nbformat_minor": 5
}
